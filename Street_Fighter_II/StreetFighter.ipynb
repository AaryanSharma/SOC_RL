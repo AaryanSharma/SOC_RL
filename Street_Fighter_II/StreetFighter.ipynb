{
 "cells": [
  {
   "cell_type": "code",
   "execution_count": 1,
   "id": "9c82700e",
   "metadata": {
    "scrolled": true
   },
   "outputs": [
    {
     "name": "stdout",
     "output_type": "stream",
     "text": [
      "Requirement already satisfied: gym==0.19.0 in d:\\anaconda\\envs\\streetfighter\\lib\\site-packages (0.19.0)\n",
      "Requirement already satisfied: gym-retro==0.8.0 in d:\\anaconda\\envs\\streetfighter\\lib\\site-packages (0.8.0)\n",
      "Requirement already satisfied: cloudpickle<1.7.0,>=1.2.0 in d:\\anaconda\\envs\\streetfighter\\lib\\site-packages (from gym==0.19.0) (1.6.0)\n",
      "Requirement already satisfied: numpy>=1.18.0 in d:\\anaconda\\envs\\streetfighter\\lib\\site-packages (from gym==0.19.0) (1.19.2)\n",
      "Requirement already satisfied: pyglet==1.*,>=1.3.2 in d:\\anaconda\\envs\\streetfighter\\lib\\site-packages (from gym-retro==0.8.0) (1.5.27)\n"
     ]
    }
   ],
   "source": [
    "! pip install gym==0.19.0 gym-retro==0.8.0"
   ]
  },
  {
   "cell_type": "code",
   "execution_count": 2,
   "id": "8d8f53ca",
   "metadata": {
    "scrolled": true
   },
   "outputs": [
    {
     "name": "stdout",
     "output_type": "stream",
     "text": [
      "Looking in links: https://download.pytorch.org/whl/cu113/torch_stable.html\n",
      "Requirement already satisfied: torch==1.10.2+cu113 in d:\\anaconda\\envs\\streetfighter\\lib\\site-packages (1.10.2+cu113)\n",
      "Requirement already satisfied: torchvision==0.11.3+cu113 in d:\\anaconda\\envs\\streetfighter\\lib\\site-packages (0.11.3+cu113)\n",
      "Requirement already satisfied: torchaudio===0.10.2+cu113 in d:\\anaconda\\envs\\streetfighter\\lib\\site-packages (0.10.2+cu113)\n",
      "Requirement already satisfied: dataclasses in d:\\anaconda\\envs\\streetfighter\\lib\\site-packages (from torch==1.10.2+cu113) (0.8)\n",
      "Requirement already satisfied: typing-extensions in d:\\anaconda\\envs\\streetfighter\\lib\\site-packages (from torch==1.10.2+cu113) (4.1.1)\n",
      "Requirement already satisfied: pillow!=8.3.0,>=5.3.0 in d:\\anaconda\\envs\\streetfighter\\lib\\site-packages (from torchvision==0.11.3+cu113) (8.4.0)\n",
      "Requirement already satisfied: numpy in d:\\anaconda\\envs\\streetfighter\\lib\\site-packages (from torchvision==0.11.3+cu113) (1.19.2)\n"
     ]
    }
   ],
   "source": [
    "    !pip install torch==1.10.2+cu113 torchvision==0.11.3+cu113 torchaudio===0.10.2+cu113 -f https://download.pytorch.org/whl/cu113/torch_stable.html"
   ]
  },
  {
   "cell_type": "markdown",
   "id": "70c3a557",
   "metadata": {},
   "source": [
    "### Imports and basic testing of installation"
   ]
  },
  {
   "cell_type": "code",
   "execution_count": 3,
   "id": "44affa8f",
   "metadata": {
    "scrolled": true
   },
   "outputs": [
    {
     "name": "stdout",
     "output_type": "stream",
     "text": [
      "Requirement already satisfied: pygame==2.1.0 in d:\\anaconda\\envs\\streetfighter\\lib\\site-packages (2.1.0)\n"
     ]
    }
   ],
   "source": [
    "!pip install pygame==2.1.0"
   ]
  },
  {
   "cell_type": "code",
   "execution_count": 4,
   "id": "09209fa0",
   "metadata": {
    "scrolled": true
   },
   "outputs": [
    {
     "name": "stdout",
     "output_type": "stream",
     "text": [
      "pygame 2.1.0 (SDL 2.0.16, Python 3.6.13)\n",
      "Hello from the pygame community. https://www.pygame.org/contribute.html\n"
     ]
    }
   ],
   "source": [
    "import retro # The main library\n",
    "import time # For timing learning, if needed\n",
    "import pygame # For rendering the game"
   ]
  },
  {
   "cell_type": "code",
   "execution_count": 5,
   "id": "26f9b077",
   "metadata": {
    "scrolled": true
   },
   "outputs": [
    {
     "data": {
      "text/plain": [
       "['1942-Nes',\n",
       " '1943-Nes',\n",
       " '3NinjasKickBack-Genesis',\n",
       " '8Eyes-Nes',\n",
       " 'AaahhRealMonsters-Genesis',\n",
       " 'AbadoxTheDeadlyInnerWar-Nes',\n",
       " 'AcceleBrid-Snes',\n",
       " 'ActRaiser2-Snes',\n",
       " 'ActionPachio-Snes',\n",
       " 'AddamsFamily-GameBoy',\n",
       " 'AddamsFamily-Genesis',\n",
       " 'AddamsFamily-Nes',\n",
       " 'AddamsFamily-Sms',\n",
       " 'AddamsFamily-Snes',\n",
       " 'AddamsFamilyPugsleysScavengerHunt-Nes',\n",
       " 'AddamsFamilyPugsleysScavengerHunt-Snes',\n",
       " 'AdvancedBusterhawkGleylancer-Genesis',\n",
       " 'Adventure-Atari2600',\n",
       " 'AdventureIsland-GameBoy',\n",
       " 'AdventureIsland3-Nes',\n",
       " 'AdventureIslandII-Nes',\n",
       " 'AdventuresOfBatmanAndRobin-Genesis',\n",
       " 'AdventuresOfBayouBilly-Nes',\n",
       " 'AdventuresOfDinoRiki-Nes',\n",
       " 'AdventuresOfDrFranken-Snes',\n",
       " 'AdventuresOfKidKleets-Snes',\n",
       " 'AdventuresOfMightyMax-Genesis',\n",
       " 'AdventuresOfMightyMax-Snes',\n",
       " 'AdventuresOfRockyAndBullwinkleAndFriends-Genesis',\n",
       " 'AdventuresOfRockyAndBullwinkleAndFriends-Nes',\n",
       " 'AdventuresOfRockyAndBullwinkleAndFriends-Snes',\n",
       " 'AdventuresOfStarSaver-GameBoy',\n",
       " 'AdventuresOfYogiBear-Snes',\n",
       " 'AeroFighters-Snes',\n",
       " 'AeroStar-GameBoy',\n",
       " 'AeroTheAcroBat-Snes',\n",
       " 'AeroTheAcroBat2-Genesis',\n",
       " 'AeroTheAcroBat2-Snes',\n",
       " 'AfterBurnerII-Genesis',\n",
       " 'AfterBurst-GameBoy',\n",
       " 'AirBuster-Genesis',\n",
       " 'AirCavalry-Snes',\n",
       " 'AirDiver-Genesis',\n",
       " 'AirRaid-Atari2600',\n",
       " 'Airstriker-Genesis',\n",
       " 'Airwolf-Nes',\n",
       " 'AlfredChicken-GameBoy',\n",
       " 'AlfredChicken-Nes',\n",
       " 'AlfredChicken-Snes',\n",
       " 'Alien-Atari2600',\n",
       " 'Alien3-Nes',\n",
       " 'Alien3-Sms',\n",
       " 'AlienSoldier-Genesis',\n",
       " 'AlienSyndrome-Sms',\n",
       " 'AlienVsPredator-Snes',\n",
       " 'Alleyway-GameBoy',\n",
       " 'AlphaMission-Nes',\n",
       " 'AlteredBeast-Genesis',\n",
       " 'Amagon-Nes',\n",
       " 'AmazingPenguin-GameBoy',\n",
       " 'AmericanGladiators-Genesis',\n",
       " 'Amidar-Atari2600',\n",
       " 'ArchRivalsTheArcadeGame-Genesis',\n",
       " 'ArcherMacleansSuperDropzone-Snes',\n",
       " 'ArdyLightfoot-Snes',\n",
       " 'Argus-Nes',\n",
       " 'ArielTheLittleMermaid-Genesis',\n",
       " 'Arkanoid-Nes',\n",
       " 'ArkistasRing-Nes',\n",
       " 'Armadillo-Nes',\n",
       " 'ArrowFlash-Genesis',\n",
       " 'ArtOfFighting-Genesis',\n",
       " 'ArtOfFighting-Snes',\n",
       " 'Assault-Atari2600',\n",
       " 'Asterix-Atari2600',\n",
       " 'Asterix-Sms',\n",
       " 'Asterix-Snes',\n",
       " 'AsterixAndObelix-GameBoy',\n",
       " 'AsterixAndTheGreatRescue-Genesis',\n",
       " 'AsterixAndTheGreatRescue-Sms',\n",
       " 'AsterixAndThePowerOfTheGods-Genesis',\n",
       " 'AsterixAndTheSecretMission-Sms',\n",
       " 'Asteroids-Atari2600',\n",
       " 'Asteroids-GameBoy',\n",
       " 'AstroRabby-GameBoy',\n",
       " 'AstroRoboSasa-Nes',\n",
       " 'AstroWarrior-Sms',\n",
       " 'Astyanax-Nes',\n",
       " 'Athena-Nes',\n",
       " 'Atlantis-Atari2600',\n",
       " 'AtlantisNoNazo-Nes',\n",
       " 'AtomicRoboKid-Genesis',\n",
       " 'AtomicRunner-Genesis',\n",
       " 'AttackAnimalGakuen-Nes',\n",
       " 'AttackOfTheKillerTomatoes-GameBoy',\n",
       " 'AttackOfTheKillerTomatoes-Nes',\n",
       " 'AwesomePossumKicksDrMachinosButt-Genesis',\n",
       " 'Axelay-Snes',\n",
       " 'AyrtonSennasSuperMonacoGPII-Genesis',\n",
       " 'BOB-Genesis',\n",
       " 'BOB-Snes',\n",
       " 'BWings-Nes',\n",
       " 'BackToTheFuturePartIII-Genesis',\n",
       " 'BadDudes-Nes',\n",
       " 'BadStreetBrawler-Nes',\n",
       " 'BakuretsuSenshiWarrior-GameBoy',\n",
       " 'BalloonFight-Nes',\n",
       " 'BalloonKid-GameBoy',\n",
       " 'Baltron-Nes',\n",
       " 'BananaPrince-Nes',\n",
       " 'BanishingRacer-GameBoy',\n",
       " 'BankHeist-Atari2600',\n",
       " 'Barbie-Nes',\n",
       " 'BarkleyShutUpAndJam-Genesis',\n",
       " 'BarkleyShutUpAndJam2-Genesis',\n",
       " 'BarneysHideAndSeekGame-Genesis',\n",
       " 'BartSimpsonsEscapeFromCampDeadly-GameBoy',\n",
       " 'Batman-Genesis',\n",
       " 'BatmanReturns-Genesis',\n",
       " 'BatmanReturns-Nes',\n",
       " 'BatmanReturns-Snes',\n",
       " 'BattleArenaToshinden-GameBoy',\n",
       " 'BattleBull-GameBoy',\n",
       " 'BattleMasterKyuukyokuNoSenshiTachi-Snes',\n",
       " 'BattleSquadron-Genesis',\n",
       " 'BattleTechAGameOfArmoredCombat-Genesis',\n",
       " 'BattleUnitZeoth-GameBoy',\n",
       " 'BattleZequeDen-Snes',\n",
       " 'BattleZone-Atari2600',\n",
       " 'Battletoads-Genesis',\n",
       " 'Battletoads-Nes',\n",
       " 'BattletoadsDoubleDragon-Genesis',\n",
       " 'BattletoadsDoubleDragon-Snes',\n",
       " 'BattletoadsInBattlemaniacs-Snes',\n",
       " 'BattletoadsInRagnaroksWorld-GameBoy',\n",
       " 'BeamRider-Atari2600',\n",
       " 'BeautyAndTheBeastBellesQuest-Genesis',\n",
       " 'BeautyAndTheBeastRoarOfTheBeast-Genesis',\n",
       " 'BebesKids-Snes',\n",
       " 'Berzerk-Atari2600',\n",
       " 'BillAndTedsExcellentGameBoyAdventure-GameBoy',\n",
       " 'BiminiRun-Genesis',\n",
       " 'BinaryLand-Nes',\n",
       " 'BioHazardBattle-Genesis',\n",
       " 'BioMetal-Snes',\n",
       " 'BioMiracleBokutteUpa-Nes',\n",
       " 'BioSenshiDanIncreaserTonoTatakai-Nes',\n",
       " 'BirdWeek-Nes',\n",
       " 'BishoujoSenshiSailorMoon-Genesis',\n",
       " 'BishoujoSenshiSailorMoonR-Snes',\n",
       " 'BlaZeonTheBioCyborgChallenge-Snes',\n",
       " 'BladeEagle-Sms',\n",
       " 'BladesOfVengeance-Genesis',\n",
       " 'BlockKuzushi-Snes',\n",
       " 'BlockKuzushiGB-GameBoy',\n",
       " 'Blockout-Genesis',\n",
       " 'BodyCount-Genesis',\n",
       " 'BombJack-GameBoy',\n",
       " 'BomberRaid-Sms',\n",
       " 'BonkersWaxUp-Sms',\n",
       " 'BoobyBoys-GameBoy',\n",
       " 'BoobyKids-Nes',\n",
       " 'BoogermanAPickAndFlickAdventure-Genesis',\n",
       " 'BoogermanAPickAndFlickAdventure-Snes',\n",
       " 'BoogieWoogieBowling-Genesis',\n",
       " 'BoulderDash-GameBoy',\n",
       " 'BoulderDash-Nes',\n",
       " 'Bowling-Atari2600',\n",
       " 'Boxing-Atari2600',\n",
       " 'BoxingLegendsOfTheRing-Genesis',\n",
       " 'BramStokersDracula-Genesis',\n",
       " 'BramStokersDracula-Nes',\n",
       " 'BramStokersDracula-Snes',\n",
       " 'BrawlBrothers-Snes',\n",
       " 'BreakThru-Nes',\n",
       " 'Breakout-Atari2600',\n",
       " 'BronkieTheBronchiasaurus-Snes',\n",
       " 'BubbaNStix-Genesis',\n",
       " 'BubbleAndSqueak-Genesis',\n",
       " 'BubbleBobble-Nes',\n",
       " 'BubbleBobble-Sms',\n",
       " 'BubbleBobblePart2-Nes',\n",
       " 'BubbleGhost-GameBoy',\n",
       " 'BubsyII-Genesis',\n",
       " 'BubsyII-Snes',\n",
       " 'BubsyInClawsEncountersOfTheFurredKind-Genesis',\n",
       " 'BubsyInClawsEncountersOfTheFurredKind-Snes',\n",
       " 'BuckyOHare-Nes',\n",
       " 'BugsBunnyBirthdayBlowout-Nes',\n",
       " 'BullsVersusBlazersAndTheNBAPlayoffs-Genesis',\n",
       " 'BullsVsLakersAndTheNBAPlayoffs-Genesis',\n",
       " 'BuraiFighter-Nes',\n",
       " 'BurningForce-Genesis',\n",
       " 'CacomaKnightInBizyland-Snes',\n",
       " 'Cadash-Genesis',\n",
       " 'CalRipkenJrBaseball-Genesis',\n",
       " 'Caliber50-Genesis',\n",
       " 'CaliforniaGames-Genesis',\n",
       " 'Cameltry-Snes',\n",
       " 'CannonFodder-Genesis',\n",
       " 'CannonFodder-Snes',\n",
       " 'CaptainAmericaAndTheAvengers-Genesis',\n",
       " 'CaptainAmericaAndTheAvengers-Nes',\n",
       " 'CaptainAmericaAndTheAvengers-Snes',\n",
       " 'CaptainCommando-Snes',\n",
       " 'CaptainPlanetAndThePlaneteers-Genesis',\n",
       " 'CaptainPlanetAndThePlaneteers-Nes',\n",
       " 'CaptainSilver-Nes',\n",
       " 'Carnival-Atari2600',\n",
       " 'Castelian-Nes',\n",
       " 'CastleOfIllusion-Genesis',\n",
       " 'Castlevania-Nes',\n",
       " 'CastlevaniaBloodlines-Genesis',\n",
       " 'CastlevaniaDraculaX-Snes',\n",
       " 'CastlevaniaIIIDraculasCurse-Nes',\n",
       " 'CastlevaniaTheNewGeneration-Genesis',\n",
       " 'CatNindenTeyandee-Nes',\n",
       " 'Centipede-Atari2600',\n",
       " 'ChacknPop-Nes',\n",
       " 'Challenger-Nes',\n",
       " 'ChampionsWorldClassSoccer-Genesis',\n",
       " 'ChampionshipProAm-Genesis',\n",
       " 'ChaosEngine-Genesis',\n",
       " 'ChaseHQII-Genesis',\n",
       " 'CheeseCatAstropheStarringSpeedyGonzales-Genesis',\n",
       " 'CheeseCatAstropheStarringSpeedyGonzales-Sms',\n",
       " 'ChesterCheetahTooCoolToFool-Genesis',\n",
       " 'ChesterCheetahTooCoolToFool-Snes',\n",
       " 'ChesterCheetahWildWildQuest-Genesis',\n",
       " 'ChesterCheetahWildWildQuest-Snes',\n",
       " 'ChiChisProChallengeGolf-Genesis',\n",
       " 'ChikiChikiBoys-Genesis',\n",
       " 'Choplifter-Nes',\n",
       " 'ChoplifterIIIRescueSurvive-Snes',\n",
       " 'ChopperCommand-Atari2600',\n",
       " 'ChouFuyuuYousaiExedExes-Nes',\n",
       " 'ChoujikuuYousaiMacross-Nes',\n",
       " 'ChoujikuuYousaiMacrossScrambledValkyrie-Snes',\n",
       " 'ChubbyCherub-Nes',\n",
       " 'ChuckRock-Genesis',\n",
       " 'ChuckRock-Sms',\n",
       " 'ChuckRock-Snes',\n",
       " 'ChuckRockIISonOfChuck-Genesis',\n",
       " 'ChuckRockIISonOfChuck-Sms',\n",
       " 'CircusCaper-Nes',\n",
       " 'CircusCharlie-Nes',\n",
       " 'CityConnection-Nes',\n",
       " 'ClayFighter-Genesis',\n",
       " 'Claymates-Snes',\n",
       " 'Cliffhanger-Genesis',\n",
       " 'Cliffhanger-Nes',\n",
       " 'Cliffhanger-Snes',\n",
       " 'CloudMaster-Sms',\n",
       " 'CluCluLand-Nes',\n",
       " 'CobraTriangle-Nes',\n",
       " 'CodeNameViper-Nes',\n",
       " 'CollegeSlam-Genesis',\n",
       " 'Columns-Genesis',\n",
       " 'ColumnsIII-Genesis',\n",
       " 'CombatCars-Genesis',\n",
       " 'ComicalMachineGunJoe-Sms',\n",
       " 'ComixZone-Genesis',\n",
       " 'Conan-Nes',\n",
       " 'CongosCaper-Snes',\n",
       " 'ConquestOfTheCrystalPalace-Nes',\n",
       " 'ContraForce-Nes',\n",
       " 'CoolSpot-Genesis',\n",
       " 'CoolSpot-Sms',\n",
       " 'CoolSpot-Snes',\n",
       " 'CosmicEpsilon-Nes',\n",
       " 'CosmoGangTheVideo-Snes',\n",
       " 'CrackDown-Genesis',\n",
       " 'CrazyClimber-Atari2600',\n",
       " 'CrossFire-Nes',\n",
       " 'CrueBallHeavyMetalPinball-Genesis',\n",
       " 'Curse-Genesis',\n",
       " 'CutieSuzukiNoRingsideAngel-Genesis',\n",
       " 'CutthroatIsland-Genesis',\n",
       " 'CyberShinobi-Sms',\n",
       " 'Cyberball-Genesis',\n",
       " 'Cybernator-Snes',\n",
       " 'CyborgJustice-Genesis',\n",
       " 'DJBoy-Genesis',\n",
       " 'DaffyDuckInHollywood-Sms',\n",
       " 'DaffyDuckTheMarvinMissions-Snes',\n",
       " 'DaisenpuuTwinHawk-Genesis',\n",
       " 'DananTheJungleFighter-Sms',\n",
       " 'DangerousSeed-Genesis',\n",
       " 'DariusForce-Snes',\n",
       " 'DariusII-Genesis',\n",
       " 'DariusTwin-Snes',\n",
       " 'DarkCastle-Genesis',\n",
       " 'Darkman-Nes',\n",
       " 'Darwin4081-Genesis',\n",
       " 'DashGalaxyInTheAlienAsylum-Nes',\n",
       " 'DashinDesperadoes-Genesis',\n",
       " 'DavidRobinsonsSupremeCourt-Genesis',\n",
       " 'DazeBeforeChristmas-Genesis',\n",
       " 'DazeBeforeChristmas-Snes',\n",
       " 'DeadlyMoves-Genesis',\n",
       " 'DeathDuel-Genesis',\n",
       " 'DeepDuckTroubleStarringDonaldDuck-Sms',\n",
       " 'Defender-Atari2600',\n",
       " 'DefenderII-Nes',\n",
       " 'DemonAttack-Atari2600',\n",
       " 'DennisTheMenace-Snes',\n",
       " 'DesertStrikeReturnToTheGulf-Genesis',\n",
       " 'DevilCrashMD-Genesis',\n",
       " 'DevilishTheNextPossession-Genesis',\n",
       " 'DickTracy-Genesis',\n",
       " 'DickTracy-Sms',\n",
       " 'DickVitalesAwesomeBabyCollegeHoops-Genesis',\n",
       " 'DigDugIITroubleInParadise-Nes',\n",
       " 'DiggerTheLegendOfTheLostCity-Nes',\n",
       " 'DimensionForce-Snes',\n",
       " 'DinoCity-Snes',\n",
       " 'DinoLand-Genesis',\n",
       " 'DirtyHarry-Nes',\n",
       " 'DonDokoDon-Nes',\n",
       " 'DonkeyKong-Nes',\n",
       " 'DonkeyKong3-Nes',\n",
       " 'DonkeyKongCountry-Snes',\n",
       " 'DonkeyKongCountry2-Snes',\n",
       " 'DonkeyKongCountry3DixieKongsDoubleTrouble-Snes',\n",
       " 'DonkeyKongJr-Nes',\n",
       " 'DoubleDragon-Genesis',\n",
       " 'DoubleDragon-Nes',\n",
       " 'DoubleDragonIITheRevenge-Genesis',\n",
       " 'DoubleDragonIITheRevenge-Nes',\n",
       " 'DoubleDragonVTheShadowFalls-Genesis',\n",
       " 'DoubleDribbleThePlayoffEdition-Genesis',\n",
       " 'DoubleDunk-Atari2600',\n",
       " 'DrRobotniksMeanBeanMachine-Genesis',\n",
       " 'DragonPower-Nes',\n",
       " 'DragonSpiritTheNewLegend-Nes',\n",
       " 'DragonTheBruceLeeStory-Genesis',\n",
       " 'DragonTheBruceLeeStory-Snes',\n",
       " 'DragonsLair-Snes',\n",
       " 'DragonsRevenge-Genesis',\n",
       " 'DreamTeamUSA-Genesis',\n",
       " 'DynamiteDuke-Genesis',\n",
       " 'DynamiteDuke-Sms',\n",
       " 'DynamiteHeaddy-Genesis',\n",
       " 'ESPNBaseballTonight-Genesis',\n",
       " 'EarnestEvans-Genesis',\n",
       " 'EarthDefenseForce-Snes',\n",
       " 'ElViento-Genesis',\n",
       " 'ElementalMaster-Genesis',\n",
       " 'ElevatorAction-Atari2600',\n",
       " 'ElevatorAction-Nes',\n",
       " 'EliminateDown-Genesis',\n",
       " 'Enduro-Atari2600',\n",
       " 'EuropeanClubSoccer-Genesis',\n",
       " 'ExMutants-Genesis',\n",
       " 'Exerion-Nes',\n",
       " 'F1-Genesis',\n",
       " 'FZSenkiAxisFinalZone-Genesis',\n",
       " 'FaeryTaleAdventure-Genesis',\n",
       " 'FamilyDog-Snes',\n",
       " 'Fantasia-Genesis',\n",
       " 'FantasticDizzy-Genesis',\n",
       " 'FantasyZone-Sms',\n",
       " 'FantasyZoneIIOpaOpaNoNamida-Nes',\n",
       " 'FantasyZoneIITheTearsOfOpaOpa-Sms',\n",
       " 'FantasyZoneTheMaze-Sms',\n",
       " 'FatalFury-Genesis',\n",
       " 'FatalFury2-Genesis',\n",
       " 'FatalLabyrinth-Genesis',\n",
       " 'FatalRewind-Genesis',\n",
       " 'FelixTheCat-Nes',\n",
       " 'FerrariGrandPrixChallenge-Genesis',\n",
       " 'FightingMasters-Genesis',\n",
       " 'FinalBubbleBobble-Sms',\n",
       " 'FinalFight-Snes',\n",
       " 'FinalFight2-Snes',\n",
       " 'FinalFight3-Snes',\n",
       " 'FinalFightGuy-Snes',\n",
       " 'FireAndIce-Sms',\n",
       " 'FirstSamurai-Snes',\n",
       " 'FishingDerby-Atari2600',\n",
       " 'FistOfTheNorthStar-Nes',\n",
       " 'Flicky-Genesis',\n",
       " 'Flintstones-Genesis',\n",
       " 'Flintstones-Snes',\n",
       " 'FlintstonesTheRescueOfDinoAndHoppy-Nes',\n",
       " 'FlyingDragonTheSecretScroll-Nes',\n",
       " 'FlyingHero-Nes',\n",
       " 'FlyingHeroBugyuruNoDaibouken-Snes',\n",
       " 'ForemanForReal-Genesis',\n",
       " 'ForgottenWorlds-Genesis',\n",
       " 'FormationZ-Nes',\n",
       " 'FoxsPeterPanAndThePiratesTheRevengeOfCaptainHook-Nes',\n",
       " 'FrankThomasBigHurtBaseball-Genesis',\n",
       " 'Freeway-Atari2600',\n",
       " 'Frogger-Genesis',\n",
       " 'FrontLine-Nes',\n",
       " 'Frostbite-Atari2600',\n",
       " 'FushigiNoOshiroPitPot-Sms',\n",
       " 'GIJoeARealAmericanHero-Nes',\n",
       " 'GIJoeTheAtlantisFactor-Nes',\n",
       " 'GadgetTwins-Genesis',\n",
       " 'Gaiares-Genesis',\n",
       " 'GainGround-Genesis',\n",
       " 'GalagaDemonsOfDeath-Nes',\n",
       " 'GalaxyForce-Sms',\n",
       " 'GalaxyForceII-Genesis',\n",
       " 'Gauntlet-Genesis',\n",
       " 'Gauntlet-Sms',\n",
       " 'Geimos-Nes',\n",
       " 'GeneralChaos-Genesis',\n",
       " 'GhostsnGoblins-Nes',\n",
       " 'GhoulSchool-Nes',\n",
       " 'GhoulsnGhosts-Genesis',\n",
       " 'Gimmick-Nes',\n",
       " 'GlobalDefense-Sms',\n",
       " 'GlobalGladiators-Genesis',\n",
       " 'Gods-Genesis',\n",
       " 'Gods-Snes',\n",
       " 'GokujouParodius-Snes',\n",
       " 'GoldenAxe-Genesis',\n",
       " 'GoldenAxeIII-Genesis',\n",
       " 'Gopher-Atari2600',\n",
       " 'Gradius-Nes',\n",
       " 'GradiusII-Nes',\n",
       " 'GradiusIII-Snes',\n",
       " 'GradiusTheInterstellarAssault-GameBoy',\n",
       " 'Granada-Genesis',\n",
       " 'Gravitar-Atari2600',\n",
       " 'GreatCircusMysteryStarringMickeyAndMinnie-Genesis',\n",
       " 'GreatCircusMysteryStarringMickeyAndMinnie-Snes',\n",
       " 'GreatTank-Nes',\n",
       " 'GreatWaldoSearch-Genesis',\n",
       " 'GreendogTheBeachedSurferDude-Genesis',\n",
       " 'Gremlins2TheNewBatch-Nes',\n",
       " 'GrindStormer-Genesis',\n",
       " 'Growl-Genesis',\n",
       " 'GuardianLegend-Nes',\n",
       " 'GuerrillaWar-Nes',\n",
       " 'GunNac-Nes',\n",
       " 'Gunship-Genesis',\n",
       " 'Gynoug-Genesis',\n",
       " 'Gyrodine-Nes',\n",
       " 'Gyruss-Nes',\n",
       " 'HammerinHarry-Nes',\n",
       " 'HardDrivin-Genesis',\n",
       " 'HarleysHumongousAdventure-Snes',\n",
       " 'Havoc-Genesis',\n",
       " 'HeavyBarrel-Nes',\n",
       " 'HeavyNova-Genesis',\n",
       " 'HeavyUnitMegaDriveSpecial-Genesis',\n",
       " 'Hellfire-Genesis',\n",
       " 'HelloKittyWorld-Nes',\n",
       " 'Hero-Atari2600',\n",
       " 'HomeAlone-Genesis',\n",
       " 'HomeAlone2LostInNewYork-Genesis',\n",
       " 'HomeAlone2LostInNewYork-Nes',\n",
       " 'Hook-Genesis',\n",
       " 'Hook-Snes',\n",
       " 'HuntForRedOctober-Nes',\n",
       " 'HuntForRedOctober-Snes',\n",
       " 'Hurricanes-Genesis',\n",
       " 'Hurricanes-Snes',\n",
       " 'IMGInternationalTourTennis-Genesis',\n",
       " 'IceClimber-Nes',\n",
       " 'IceHockey-Atari2600',\n",
       " 'Ikari-Nes',\n",
       " 'IkariIIITheRescue-Nes',\n",
       " 'Ikki-Nes',\n",
       " 'Imperium-Snes',\n",
       " 'Incantation-Snes',\n",
       " 'IncredibleCrashDummies-Genesis',\n",
       " 'IncredibleHulk-Genesis',\n",
       " 'IncredibleHulk-Sms',\n",
       " 'IncredibleHulk-Snes',\n",
       " 'IndianaJonesAndTheLastCrusade-Genesis',\n",
       " 'IndianaJonesAndTheTempleOfDoom-Nes',\n",
       " 'InsectorX-Genesis',\n",
       " 'InsectorX-Nes',\n",
       " 'InspectorGadget-Snes',\n",
       " 'IronSwordWizardsAndWarriorsII-Nes',\n",
       " 'IshidoTheWayOfStones-Genesis',\n",
       " 'IsolatedWarrior-Nes',\n",
       " 'ItchyAndScratchyGame-Snes',\n",
       " 'IzzysQuestForTheOlympicRings-Genesis',\n",
       " 'IzzysQuestForTheOlympicRings-Snes',\n",
       " 'Jackal-Nes',\n",
       " 'JackieChansActionKungFu-Nes',\n",
       " 'JajamaruNoDaibouken-Nes',\n",
       " 'JamesBond007TheDuel-Genesis',\n",
       " 'JamesBond007TheDuel-Sms',\n",
       " 'JamesBondJr-Nes',\n",
       " 'JamesPond2CodenameRoboCod-Sms',\n",
       " 'JamesPond3-Genesis',\n",
       " 'JamesPondIICodenameRobocod-Genesis',\n",
       " 'JamesPondUnderwaterAgent-Genesis',\n",
       " 'Jamesbond-Atari2600',\n",
       " 'Jaws-Nes',\n",
       " 'JellyBoy-Snes',\n",
       " 'JetsonsCogswellsCaper-Nes',\n",
       " 'JetsonsInvasionOfThePlanetPirates-Snes',\n",
       " 'JewelMaster-Genesis',\n",
       " 'JoeAndMac-Genesis',\n",
       " 'JoeAndMac-Nes',\n",
       " 'JoeAndMac-Snes',\n",
       " 'JoeAndMac2LostInTheTropics-Snes',\n",
       " 'JourneyEscape-Atari2600',\n",
       " 'JourneyToSilius-Nes',\n",
       " 'Joust-Nes',\n",
       " 'JuJuDensetsuTokiGoingApeSpit-Genesis',\n",
       " 'JudgeDredd-Genesis',\n",
       " 'JudgeDredd-Snes',\n",
       " 'JungleBook-Genesis',\n",
       " 'JungleBook-Nes',\n",
       " 'JungleBook-Snes',\n",
       " 'JusticeLeagueTaskForce-Genesis',\n",
       " 'KaGeKiFistsOfSteel-Genesis',\n",
       " 'Kaboom-Atari2600',\n",
       " 'KabukiQuantumFighter-Nes',\n",
       " 'KaiketsuYanchaMaru2KarakuriLand-Nes',\n",
       " 'KaiketsuYanchaMaru3TaiketsuZouringen-Nes',\n",
       " 'KaiteTsukutteAsoberuDezaemon-Snes',\n",
       " 'KamenNoNinjaAkakage-Nes',\n",
       " 'Kangaroo-Atari2600',\n",
       " 'KanshakudamaNageKantarouNoToukaidouGojuusanTsugi-Nes',\n",
       " 'KeroppiToKeroriinuNoSplashBomb-Nes',\n",
       " 'KidChameleon-Genesis',\n",
       " 'KidIcarus-Nes',\n",
       " 'KidKlownInCrazyChase-Snes',\n",
       " 'KidKlownInNightMayorWorld-Nes',\n",
       " 'KidNikiRadicalNinja-Nes',\n",
       " 'KingOfDragons-Snes',\n",
       " 'KingOfTheMonsters2-Genesis',\n",
       " 'KingOfTheMonsters2-Snes',\n",
       " 'KirbysAdventure-Nes',\n",
       " 'KnightsOfTheRound-Snes',\n",
       " 'Krull-Atari2600',\n",
       " 'KungFu-Nes',\n",
       " 'KungFuHeroes-Nes',\n",
       " 'KungFuKid-Sms',\n",
       " 'KungFuMaster-Atari2600',\n",
       " 'LandOfIllusionStarringMickeyMouse-Sms',\n",
       " 'LastActionHero-Genesis',\n",
       " 'LastActionHero-Nes',\n",
       " 'LastActionHero-Snes',\n",
       " 'LastBattle-Genesis',\n",
       " 'LastStarfighter-Nes',\n",
       " 'LawnmowerMan-Genesis',\n",
       " 'Legend-Snes',\n",
       " 'LegendOfGalahad-Genesis',\n",
       " 'LegendOfKage-Nes',\n",
       " 'LegendOfPrinceValiant-Nes',\n",
       " 'LegendaryWings-Nes',\n",
       " 'LethalEnforcers-Genesis',\n",
       " 'LethalEnforcersIIGunFighters-Genesis',\n",
       " 'LethalWeapon-Snes',\n",
       " 'LifeForce-Nes',\n",
       " 'LineOfFire-Sms',\n",
       " 'LittleMermaid-Nes',\n",
       " 'LowGManTheLowGravityMan-Nes',\n",
       " 'LuckyDimeCaperStarringDonaldDuck-Sms',\n",
       " 'MCKids-Nes',\n",
       " 'MUSHA-Genesis',\n",
       " 'MagicBoy-Snes',\n",
       " 'MagicSword-Snes',\n",
       " 'MagicalQuestStarringMickeyMouse-Snes',\n",
       " 'MagicalTaruruutoKun-Genesis',\n",
       " 'Magmax-Nes',\n",
       " 'MaouRenjishi-Genesis',\n",
       " 'MappyLand-Nes',\n",
       " 'MarbleMadness-Genesis',\n",
       " 'MarbleMadness-Sms',\n",
       " 'MarioBros-Nes',\n",
       " 'Marko-Genesis',\n",
       " 'Marsupilami-Genesis',\n",
       " 'MarvelLand-Genesis',\n",
       " 'Mask-Snes',\n",
       " 'MasterOfDarkness-Sms',\n",
       " 'McDonaldsTreasureLandAdventure-Genesis',\n",
       " 'MechanizedAttack-Nes',\n",
       " 'MegaMan-Nes',\n",
       " 'MegaMan2-Nes',\n",
       " 'MegaManTheWilyWars-Genesis',\n",
       " 'MegaSWIV-Genesis',\n",
       " 'MegaTurrican-Genesis',\n",
       " 'MendelPalace-Nes',\n",
       " 'MetalStorm-Nes',\n",
       " 'MichaelJacksonsMoonwalker-Genesis',\n",
       " 'MichaelJacksonsMoonwalker-Sms',\n",
       " 'MickeyMousecapade-Nes',\n",
       " 'MidnightResistance-Genesis',\n",
       " 'MightyBombJack-Nes',\n",
       " 'MightyFinalFight-Nes',\n",
       " 'MightyMorphinPowerRangers-Genesis',\n",
       " 'MightyMorphinPowerRangersTheMovie-Genesis',\n",
       " 'MightyMorphinPowerRangersTheMovie-Snes',\n",
       " 'Millipede-Nes',\n",
       " 'MitsumeGaTooru-Nes',\n",
       " 'MoeroTwinBeeCinnamonHakaseOSukue-Nes',\n",
       " 'MonsterInMyPocket-Nes',\n",
       " 'MonsterLair-Genesis',\n",
       " 'MonsterParty-Nes',\n",
       " 'MontezumaRevenge-Atari2600',\n",
       " 'MortalKombat-Genesis',\n",
       " 'MortalKombat3-Genesis',\n",
       " 'MortalKombatII-Genesis',\n",
       " 'MrNutz-Genesis',\n",
       " 'MrNutz-Snes',\n",
       " 'MsPacMan-Genesis',\n",
       " 'MsPacMan-Nes',\n",
       " 'MsPacMan-Sms',\n",
       " 'MsPacman-Atari2600',\n",
       " 'MutantVirusCrisisInAComputerWorld-Nes',\n",
       " 'MyHero-Sms',\n",
       " 'MysteryQuest-Nes',\n",
       " 'NARC-Nes',\n",
       " 'NameThisGame-Atari2600',\n",
       " 'NewZealandStory-Genesis',\n",
       " 'NewZealandStory-Sms',\n",
       " 'Ninja-Sms',\n",
       " 'NinjaCrusaders-Nes',\n",
       " 'NinjaGaiden-Nes',\n",
       " 'NinjaGaiden-Sms',\n",
       " 'NinjaGaidenIIITheAncientShipOfDoom-Nes',\n",
       " 'NinjaGaidenIITheDarkSwordOfChaos-Nes',\n",
       " 'NinjaKid-Nes',\n",
       " 'NoahsArk-Nes',\n",
       " 'NormysBeachBabeORama-Genesis',\n",
       " 'OperationWolf-Nes',\n",
       " 'Ottifants-Genesis',\n",
       " 'Ottifants-Sms',\n",
       " 'OutToLunch-Snes',\n",
       " 'OverHorizon-Nes',\n",
       " 'POWPrisonersOfWar-Nes',\n",
       " 'PacInTime-Snes',\n",
       " 'PacManNamco-Nes',\n",
       " 'PacMania-Genesis',\n",
       " 'PacMania-Sms',\n",
       " 'PanicRestaurant-Nes',\n",
       " 'Paperboy-Genesis',\n",
       " 'Paperboy-Nes',\n",
       " 'Paperboy-Sms',\n",
       " 'Paperboy2-Genesis',\n",
       " 'Parodius-Nes',\n",
       " 'Parodius-Snes',\n",
       " 'PeaceKeepers-Snes',\n",
       " 'PenguinKunWars-Nes',\n",
       " 'Phalanx-Snes',\n",
       " 'Phelios-Genesis',\n",
       " 'Phoenix-Atari2600',\n",
       " 'PinkGoesToHollywood-Genesis',\n",
       " 'PiratesOfDarkWater-Snes',\n",
       " 'PitFighter-Genesis',\n",
       " 'PitFighter-Sms',\n",
       " 'Pitfall-Atari2600',\n",
       " 'PitfallTheMayanAdventure-Genesis',\n",
       " 'PitfallTheMayanAdventure-Snes',\n",
       " 'PizzaPop-Nes',\n",
       " 'Plok-Snes',\n",
       " 'Pong-Atari2600',\n",
       " 'Pooyan-Atari2600',\n",
       " 'Pooyan-Nes',\n",
       " 'Popeye-Nes',\n",
       " 'PopnTwinBee-Snes',\n",
       " 'PopnTwinBeeRainbowBellAdventures-Snes',\n",
       " 'PorkyPigsHauntedHoliday-Snes',\n",
       " 'PoseidonWars3D-Sms',\n",
       " 'PowerAthlete-Genesis',\n",
       " 'PowerPiggsOfTheDarkAge-Snes',\n",
       " 'PowerStrike-Sms',\n",
       " 'PowerStrikeII-Sms',\n",
       " 'Predator2-Genesis',\n",
       " 'Predator2-Sms',\n",
       " 'PrehistorikMan-Snes',\n",
       " 'PrivateEye-Atari2600',\n",
       " 'PsychicWorld-Sms',\n",
       " 'Pulseman-Genesis',\n",
       " 'Punisher-Genesis',\n",
       " 'Punisher-Nes',\n",
       " 'PussNBootsPerosGreatAdventure-Nes',\n",
       " 'PuttySquad-Snes',\n",
       " 'QBert-Nes',\n",
       " 'Qbert-Atari2600',\n",
       " 'QuackShot-Genesis',\n",
       " 'Quartet-Sms',\n",
       " 'Quarth-Nes',\n",
       " 'RType-Sms',\n",
       " 'RTypeIII-Snes',\n",
       " 'RadicalRex-Genesis',\n",
       " 'RadicalRex-Snes',\n",
       " 'RaidenDensetsu-Snes',\n",
       " 'RaidenDensetsuRaidenTrad-Genesis',\n",
       " 'RainbowIslands-Nes',\n",
       " 'RainbowIslandsStoryOfTheBubbleBobble2-Sms',\n",
       " 'RamboFirstBloodPartII-Sms',\n",
       " 'RamboIII-Genesis',\n",
       " 'Rampage-Nes',\n",
       " 'RangerX-Genesis',\n",
       " 'RastanSagaII-Genesis',\n",
       " 'Realm-Snes',\n",
       " 'RenAndStimpyShowPresentsStimpysInvention-Genesis',\n",
       " 'RenAndStimpyShowVeediots-Snes',\n",
       " 'RenderingRangerR2-Snes',\n",
       " 'Renegade-Nes',\n",
       " 'Renegade-Sms',\n",
       " 'RevengeOfShinobi-Genesis',\n",
       " 'RiseOfTheRobots-Genesis',\n",
       " 'RiskyWoods-Genesis',\n",
       " 'Ristar-Genesis',\n",
       " 'RivalTurf-Snes',\n",
       " 'Riverraid-Atari2600',\n",
       " 'RoadRunner-Atari2600',\n",
       " 'RoadRunnersDeathValleyRally-Snes',\n",
       " 'RoboCop2-Nes',\n",
       " 'RoboCop3-Genesis',\n",
       " 'RoboCop3-Nes',\n",
       " 'RoboCop3-Sms',\n",
       " 'RoboCop3-Snes',\n",
       " 'RoboCopVersusTheTerminator-Sms',\n",
       " 'RoboCopVersusTheTerminator-Snes',\n",
       " 'RoboWarrior-Nes',\n",
       " 'RoboccoWars-Nes',\n",
       " 'Robotank-Atari2600',\n",
       " 'RocketKnightAdventures-Genesis',\n",
       " 'RockinKats-Nes',\n",
       " 'Rollerball-Nes',\n",
       " 'Rollergames-Nes',\n",
       " 'RollingThunder2-Genesis',\n",
       " 'RunSaber-Snes',\n",
       " 'RunningBattle-Sms',\n",
       " 'RushnAttack-Nes',\n",
       " 'SCATSpecialCyberneticAttackTeam-Nes',\n",
       " 'SDHeroSoukessenTaoseAkuNoGundan-Nes',\n",
       " 'Sagaia-Genesis',\n",
       " 'Sagaia-Sms',\n",
       " 'SaintSword-Genesis',\n",
       " 'SameSameSame-Genesis',\n",
       " 'SamuraiShodown-Genesis',\n",
       " 'Sansuu5And6NenKeisanGame-Nes',\n",
       " 'Satellite7-Sms',\n",
       " 'Seaquest-Atari2600',\n",
       " 'SecondSamurai-Genesis',\n",
       " 'SectionZ-Nes',\n",
       " 'Seicross-Nes',\n",
       " 'SeikimaIIAkumaNoGyakushuu-Nes',\n",
       " 'SenjouNoOokamiIIMercs-Genesis',\n",
       " 'ShadowDancerTheSecretOfShinobi-Genesis',\n",
       " 'ShadowOfTheBeast-Genesis',\n",
       " 'ShaqFu-Genesis',\n",
       " 'Shatterhand-Nes',\n",
       " 'Shinobi-Sms',\n",
       " 'ShinobiIIIReturnOfTheNinjaMaster-Genesis',\n",
       " 'SilverSurfer-Nes',\n",
       " 'SimpsonsBartVsTheSpaceMutants-Genesis',\n",
       " 'SimpsonsBartVsTheSpaceMutants-Nes',\n",
       " 'SimpsonsBartVsTheWorld-Nes',\n",
       " 'SimpsonsBartmanMeetsRadioactiveMan-Nes',\n",
       " 'SkeletonKrew-Genesis',\n",
       " 'Skiing-Atari2600',\n",
       " 'SkuljaggerRevoltOfTheWesticans-Snes',\n",
       " 'SkyDestroyer-Nes',\n",
       " 'SkyKid-Nes',\n",
       " 'SkyShark-Nes',\n",
       " 'SmartBall-Snes',\n",
       " 'SmashTV-Nes',\n",
       " 'Smurfs-Genesis',\n",
       " 'Smurfs-Nes',\n",
       " 'Smurfs-Snes',\n",
       " 'SnakeRattleNRoll-Nes',\n",
       " 'SnowBrothers-Nes',\n",
       " 'Socket-Genesis',\n",
       " 'SolDeace-Genesis',\n",
       " 'Solaris-Atari2600',\n",
       " 'SoldiersOfFortune-Genesis',\n",
       " 'SonSon-Nes',\n",
       " 'SonicAndKnuckles-Genesis',\n",
       " 'SonicAndKnuckles3-Genesis',\n",
       " 'SonicBlast-Sms',\n",
       " 'SonicBlastMan-Snes',\n",
       " 'SonicBlastManII-Snes',\n",
       " 'SonicTheHedgehog-Genesis',\n",
       " 'SonicTheHedgehog-Sms',\n",
       " 'SonicTheHedgehog2-Genesis',\n",
       " 'SonicTheHedgehog2-Sms',\n",
       " 'SonicTheHedgehog3-Genesis',\n",
       " 'SonicTheHedgehogRandomLevels-Genesis',\n",
       " 'SonicWings-Snes',\n",
       " 'SpaceHarrier-Nes',\n",
       " 'SpaceHarrier-Sms',\n",
       " 'SpaceHarrier3D-Sms',\n",
       " 'SpaceHarrierII-Genesis',\n",
       " 'SpaceInvaders-Atari2600',\n",
       " 'SpaceInvaders-Nes',\n",
       " 'SpaceInvaders-Snes',\n",
       " 'SpaceInvaders91-Genesis',\n",
       " 'SpaceMegaforce-Snes',\n",
       " 'SpankysQuest-Snes',\n",
       " 'Sparkster-Genesis',\n",
       " 'Sparkster-Snes',\n",
       " 'SpartanX2-Nes',\n",
       " 'SpeedyGonzalesLosGatosBandidos-Snes',\n",
       " 'Spelunker-Nes',\n",
       " 'SpiderManReturnOfTheSinisterSix-Sms',\n",
       " 'Splatterhouse2-Genesis',\n",
       " 'SpotGoesToHollywood-Genesis',\n",
       " 'SprigganPowered-Snes',\n",
       " 'SpyHunter-Nes',\n",
       " 'Sqoon-Nes',\n",
       " 'StarForce-Nes',\n",
       " 'StarGunner-Atari2600',\n",
       " 'StarSoldier-Nes',\n",
       " 'StarWars-Nes',\n",
       " 'StarshipHector-Nes',\n",
       " 'SteelEmpire-Genesis',\n",
       " 'SteelTalons-Genesis',\n",
       " 'Stinger-Nes',\n",
       " 'StoneProtectors-Snes',\n",
       " 'Stormlord-Genesis',\n",
       " 'StreetFighterIISpecialChampionEdition-Genesis',\n",
       " 'StreetSmart-Genesis',\n",
       " 'StreetsOfRage-Genesis',\n",
       " 'StreetsOfRage2-Genesis',\n",
       " 'StreetsOfRage3-Genesis',\n",
       " 'StreetsOfRageII-Sms',\n",
       " 'Strider-Genesis',\n",
       " 'SubTerrania-Genesis',\n",
       " 'SubmarineAttack-Sms',\n",
       " 'SunsetRiders-Genesis',\n",
       " 'SuperAdventureIsland-Snes',\n",
       " 'SuperAlfredChicken-Snes',\n",
       " 'SuperArabian-Nes',\n",
       " 'SuperBCKid-Snes',\n",
       " 'SuperC-Nes',\n",
       " 'SuperCastlevaniaIV-Snes',\n",
       " 'SuperDoubleDragon-Snes',\n",
       " 'SuperFantasyZone-Genesis',\n",
       " 'SuperGhoulsnGhosts-Snes',\n",
       " 'SuperJamesPond-Snes',\n",
       " 'SuperMarioBros-Nes',\n",
       " 'SuperMarioBros3-Nes',\n",
       " 'SuperMarioWorld-Snes',\n",
       " 'SuperMarioWorld2-Snes',\n",
       " 'SuperPitfall-Nes',\n",
       " 'SuperRType-Snes',\n",
       " 'SuperSWIV-Snes',\n",
       " 'SuperSmashTV-Genesis',\n",
       " 'SuperSmashTV-Snes',\n",
       " 'SuperSpaceInvaders-Sms',\n",
       " 'SuperStarForce-Nes',\n",
       " 'SuperStarWars-Snes',\n",
       " 'SuperStarWarsReturnOfTheJedi-Snes',\n",
       " 'SuperStarWarsTheEmpireStrikesBack-Snes',\n",
       " 'SuperStrikeGunner-Snes',\n",
       " 'SuperThunderBlade-Genesis',\n",
       " 'SuperTrollIslands-Snes',\n",
       " 'SuperTurrican-Snes',\n",
       " 'SuperTurrican2-Snes',\n",
       " 'SuperValisIV-Snes',\n",
       " 'SuperWidget-Snes',\n",
       " 'SuperWonderBoy-Sms',\n",
       " 'SuperXeviousGumpNoNazo-Nes',\n",
       " 'Superman-Genesis',\n",
       " 'SupermanTheManOfSteel-Sms',\n",
       " 'SwampThing-Nes',\n",
       " 'SwordOfSodan-Genesis',\n",
       " 'SydOfValis-Genesis',\n",
       " 'SylvesterAndTweetyInCageyCapers-Genesis',\n",
       " 'T2TheArcadeGame-Genesis',\n",
       " 'T2TheArcadeGame-Sms',\n",
       " 'TaiyouNoYuushaFighbird-Nes',\n",
       " 'TakahashiMeijinNoBugutteHoney-Nes',\n",
       " 'TargetEarth-Genesis',\n",
       " 'TargetRenegade-Nes',\n",
       " 'TaskForceHarrierEX-Genesis',\n",
       " 'TazMania-Genesis',\n",
       " 'TazMania-Sms',\n",
       " 'TazMania-Snes',\n",
       " 'TeenageMutantNinjaTurtles-Nes',\n",
       " 'TeenageMutantNinjaTurtlesIIITheManhattanProject-Nes',\n",
       " 'TeenageMutantNinjaTurtlesIITheArcadeGame-Nes',\n",
       " 'TeenageMutantNinjaTurtlesIVTurtlesInTime-Snes',\n",
       " 'TeenageMutantNinjaTurtlesTheHyperstoneHeist-Genesis',\n",
       " 'TeenageMutantNinjaTurtlesTournamentFighters-Genesis',\n",
       " 'TeenageMutantNinjaTurtlesTournamentFighters-Nes',\n",
       " 'Tennis-Atari2600',\n",
       " 'Terminator-Genesis',\n",
       " 'Terminator-Sms',\n",
       " 'Terminator2JudgmentDay-Nes',\n",
       " 'TerraCresta-Nes',\n",
       " 'TetrastarTheFighter-Nes',\n",
       " 'TetrisAttack-Snes',\n",
       " 'TetsuwanAtom-Nes',\n",
       " 'Thexder-Nes',\n",
       " 'ThunderAndLightning-Nes',\n",
       " 'ThunderBlade-Sms',\n",
       " 'ThunderForceII-Genesis',\n",
       " 'ThunderForceIII-Genesis',\n",
       " 'ThunderForceIV-Genesis',\n",
       " 'ThunderFox-Genesis',\n",
       " 'ThunderSpirits-Snes',\n",
       " 'Thundercade-Nes',\n",
       " 'Tick-Genesis',\n",
       " 'Tick-Snes',\n",
       " 'TigerHeli-Nes',\n",
       " 'TimePilot-Atari2600',\n",
       " 'TimeZone-Nes',\n",
       " 'TinHead-Genesis',\n",
       " 'TinyToonAdventures-Nes',\n",
       " 'TinyToonAdventuresBusterBustsLoose-Snes',\n",
       " 'TinyToonAdventuresBustersHiddenTreasure-Genesis',\n",
       " 'Toki-Nes',\n",
       " 'TomAndJerry-Snes',\n",
       " 'TotalRecall-Nes',\n",
       " 'TotallyRad-Nes',\n",
       " 'ToxicCrusaders-Genesis',\n",
       " 'ToxicCrusaders-Nes',\n",
       " 'TrampolineTerror-Genesis',\n",
       " 'TransBot-Sms',\n",
       " 'TreasureMaster-Nes',\n",
       " 'Trog-Nes',\n",
       " 'Trojan-Nes',\n",
       " 'TrollsInCrazyland-Nes',\n",
       " 'TroubleShooter-Genesis',\n",
       " 'Truxton-Genesis',\n",
       " 'Turrican-Genesis',\n",
       " 'Tutankham-Atari2600',\n",
       " 'TwinBee-Nes',\n",
       " 'TwinBee3PokoPokoDaimaou-Nes',\n",
       " 'TwinCobra-Nes',\n",
       " 'TwinCobraDesertAttackHelicopter-Genesis',\n",
       " 'TwinEagle-Nes',\n",
       " 'TwinkleTale-Genesis',\n",
       " 'TwoCrudeDudes-Genesis',\n",
       " 'UNSquadron-Snes',\n",
       " 'UchuuNoKishiTekkamanBlade-Snes',\n",
       " 'UndeadLine-Genesis',\n",
       " 'UniversalSoldier-Genesis',\n",
       " 'Untouchables-Nes',\n",
       " 'UpNDown-Atari2600',\n",
       " 'UrbanChampion-Nes',\n",
       " 'UruseiYatsuraLumNoWeddingBell-Nes',\n",
       " 'UzuKeobukseon-Genesis',\n",
       " 'VRTroopers-Genesis',\n",
       " 'VaporTrail-Genesis',\n",
       " 'Vectorman-Genesis',\n",
       " 'Vectorman2-Genesis',\n",
       " 'Venture-Atari2600',\n",
       " 'ViceProjectDoom-Nes',\n",
       " 'VideoPinball-Atari2600',\n",
       " 'Viewpoint-Genesis',\n",
       " 'Vigilante-Sms',\n",
       " 'VolguardII-Nes',\n",
       " 'WaniWaniWorld-Genesis',\n",
       " 'Wardner-Genesis',\n",
       " 'Warpman-Nes',\n",
       " 'WaynesWorld-Nes',\n",
       " 'WereBackADinosaursStory-Snes',\n",
       " 'WhipRush-Genesis',\n",
       " 'Widget-Nes',\n",
       " 'WizardOfWor-Atari2600',\n",
       " 'WizardsAndWarriors-Nes',\n",
       " 'WiznLiz-Genesis',\n",
       " 'Wolfchild-Genesis',\n",
       " 'Wolfchild-Sms',\n",
       " 'Wolfchild-Snes',\n",
       " 'WolverineAdamantiumRage-Genesis',\n",
       " 'WonderBoyInMonsterWorld-Sms',\n",
       " 'WorldHeroes-Genesis',\n",
       " 'WrathOfTheBlackManta-Nes',\n",
       " 'WreckingCrew-Nes',\n",
       " 'XDRXDazedlyRay-Genesis',\n",
       " 'XKaliber2097-Snes',\n",
       " 'XMenMojoWorld-Sms',\n",
       " 'Xenon2Megablast-Genesis',\n",
       " 'Xenophobe-Nes',\n",
       " 'XeviousTheAvenger-Nes',\n",
       " 'Xexyz-Nes',\n",
       " 'YarsRevenge-Atari2600',\n",
       " 'YoukaiClub-Nes',\n",
       " 'YoukaiDouchuuki-Nes',\n",
       " 'YoungIndianaJonesChronicles-Nes',\n",
       " 'Zanac-Nes',\n",
       " 'Zaxxon-Atari2600',\n",
       " 'ZeroTheKamikazeSquirrel-Genesis',\n",
       " 'ZeroTheKamikazeSquirrel-Snes',\n",
       " 'ZeroWing-Genesis',\n",
       " 'ZombiesAteMyNeighbors-Snes',\n",
       " 'ZoolNinjaOfTheNthDimension-Genesis',\n",
       " 'ZoolNinjaOfTheNthDimension-Sms',\n",
       " 'ZoolNinjaOfTheNthDimension-Snes']"
      ]
     },
     "execution_count": 5,
     "metadata": {},
     "output_type": "execute_result"
    }
   ],
   "source": [
    "retro.data.list_games()\n",
    "# There are actually many games provided by Gym Retro: this command let's you check them out!"
   ]
  },
  {
   "cell_type": "code",
   "execution_count": 166,
   "id": "d1dcc213",
   "metadata": {
    "scrolled": true
   },
   "outputs": [],
   "source": [
    "# Command to create your environment\n",
    "env = retro.make(game = \"StreetFighterIISpecialChampionEdition-Genesis\")"
   ]
  },
  {
   "cell_type": "code",
   "execution_count": 167,
   "id": "28de2df8",
   "metadata": {
    "scrolled": true
   },
   "outputs": [],
   "source": [
    "# This is the basic loop to be run. Here the sampling is random.\n",
    "# Watch this run carefully. Do you realise that finishing the first level barely requires any skill?\n",
    "# The juicy victory won by smashing keys randomly is an incentive to bring in more players to the arcade!\n",
    "# Reset game to starting state\n",
    "obs = env.reset()\n",
    "# Set flag to false\n",
    "done = False\n",
    "for game in range(1): \n",
    "    while not done: \n",
    "        if done: \n",
    "            obs = env.reset()\n",
    "        env.render()\n",
    "        obs, reward, done, info = env.step(env.action_space.sample())\n",
    "        \n",
    "env.close()"
   ]
  },
  {
   "cell_type": "markdown",
   "id": "6a5c164e",
   "metadata": {},
   "source": [
    "### Your implementation"
   ]
  },
  {
   "cell_type": "code",
   "execution_count": 8,
   "id": "59bfcad8",
   "metadata": {
    "scrolled": true
   },
   "outputs": [
    {
     "data": {
      "text/plain": [
       "array([[[ 72, 189,  86],\n",
       "        [167, 211,  23],\n",
       "        [  8, 130, 253],\n",
       "        ...,\n",
       "        [ 80, 111,  12],\n",
       "        [107, 252, 140],\n",
       "        [253, 162, 135]],\n",
       "\n",
       "       [[ 15,  27,  46],\n",
       "        [183, 172, 160],\n",
       "        [204, 135,  93],\n",
       "        ...,\n",
       "        [ 41, 184, 101],\n",
       "        [204, 171, 231],\n",
       "        [228, 139,  79]],\n",
       "\n",
       "       [[218, 144, 204],\n",
       "        [ 54, 205,  94],\n",
       "        [ 79, 192,  81],\n",
       "        ...,\n",
       "        [113,  53, 174],\n",
       "        [224, 101, 220],\n",
       "        [218, 253,  16]],\n",
       "\n",
       "       ...,\n",
       "\n",
       "       [[121, 253, 111],\n",
       "        [172,  74, 217],\n",
       "        [ 11, 242, 205],\n",
       "        ...,\n",
       "        [ 20, 240,   6],\n",
       "        [191,   2, 213],\n",
       "        [185,  93, 191]],\n",
       "\n",
       "       [[ 97,  51, 246],\n",
       "        [246,  69,  50],\n",
       "        [232,  10,  48],\n",
       "        ...,\n",
       "        [ 66,  63,  96],\n",
       "        [ 71, 180, 178],\n",
       "        [ 78,  98, 247]],\n",
       "\n",
       "       [[ 91, 210,  75],\n",
       "        [150,  35, 160],\n",
       "        [ 31,  35,  82],\n",
       "        ...,\n",
       "        [243, 169,  24],\n",
       "        [194,  88, 104],\n",
       "        [ 99,  59,  47]]], dtype=uint8)"
      ]
     },
     "execution_count": 8,
     "metadata": {},
     "output_type": "execute_result"
    }
   ],
   "source": [
    "env.observation_space.sample()"
   ]
  },
  {
   "cell_type": "code",
   "execution_count": 9,
   "id": "6af5ac4c",
   "metadata": {
    "scrolled": true
   },
   "outputs": [
    {
     "data": {
      "text/plain": [
       "array([1, 1, 0, 1, 0, 1, 0, 0, 1, 1, 1, 0], dtype=int8)"
      ]
     },
     "execution_count": 9,
     "metadata": {},
     "output_type": "execute_result"
    }
   ],
   "source": [
    "env.action_space.sample()"
   ]
  },
  {
   "cell_type": "code",
   "execution_count": 10,
   "id": "354688f4",
   "metadata": {
    "scrolled": true
   },
   "outputs": [
    {
     "name": "stdout",
     "output_type": "stream",
     "text": [
      "Requirement already satisfied: opencv-python==4.5.5.62 in d:\\anaconda\\envs\\streetfighter\\lib\\site-packages (4.5.5.62)\n",
      "Requirement already satisfied: numpy>=1.13.3 in d:\\anaconda\\envs\\streetfighter\\lib\\site-packages (from opencv-python==4.5.5.62) (1.19.2)\n"
     ]
    }
   ],
   "source": [
    "!pip install opencv-python==4.5.5.62"
   ]
  },
  {
   "cell_type": "code",
   "execution_count": 11,
   "id": "61b0a721",
   "metadata": {
    "scrolled": true
   },
   "outputs": [
    {
     "name": "stdout",
     "output_type": "stream",
     "text": [
      "Requirement already satisfied: matplotlib in d:\\anaconda\\envs\\streetfighter\\lib\\site-packages (3.3.4)\n",
      "Requirement already satisfied: kiwisolver>=1.0.1 in d:\\anaconda\\envs\\streetfighter\\lib\\site-packages (from matplotlib) (1.3.1)\n",
      "Requirement already satisfied: python-dateutil>=2.1 in d:\\anaconda\\envs\\streetfighter\\lib\\site-packages (from matplotlib) (2.8.2)\n",
      "Requirement already satisfied: pillow>=6.2.0 in d:\\anaconda\\envs\\streetfighter\\lib\\site-packages (from matplotlib) (8.4.0)\n",
      "Requirement already satisfied: cycler>=0.10 in d:\\anaconda\\envs\\streetfighter\\lib\\site-packages (from matplotlib) (0.11.0)\n",
      "Requirement already satisfied: numpy>=1.15 in d:\\anaconda\\envs\\streetfighter\\lib\\site-packages (from matplotlib) (1.19.2)\n",
      "Requirement already satisfied: pyparsing!=2.0.4,!=2.1.2,!=2.1.6,>=2.0.3 in d:\\anaconda\\envs\\streetfighter\\lib\\site-packages (from matplotlib) (3.1.1)\n",
      "Requirement already satisfied: six>=1.5 in d:\\anaconda\\envs\\streetfighter\\lib\\site-packages (from python-dateutil>=2.1->matplotlib) (1.16.0)\n"
     ]
    }
   ],
   "source": [
    "!pip install matplotlib"
   ]
  },
  {
   "cell_type": "code",
   "execution_count": 12,
   "id": "70c322b2",
   "metadata": {
    "collapsed": true,
    "scrolled": true
   },
   "outputs": [],
   "source": [
    "from gym import Env \n",
    "from gym.spaces import MultiBinary, Box\n",
    "import numpy as np \n",
    "import cv2\n",
    "from matplotlib import pyplot as plt"
   ]
  },
  {
   "cell_type": "markdown",
   "id": "e26bd40e",
   "metadata": {},
   "source": [
    "### Preprocessing"
   ]
  },
  {
   "cell_type": "code",
   "execution_count": 13,
   "id": "162c1bdb",
   "metadata": {
    "collapsed": true,
    "scrolled": true
   },
   "outputs": [],
   "source": [
    "# Create custom environment \n",
    "class StreetFighter(Env): \n",
    "    def __init__(self):\n",
    "        super().__init__()\n",
    "        self.observation_space = Box(low=0, high=255, shape=(84, 84, 1), dtype=np.uint8)\n",
    "        self.action_space = MultiBinary(12)\n",
    "        self.game = retro.make(game='StreetFighterIISpecialChampionEdition-Genesis', use_restricted_actions=retro.Actions.FILTERED)\n",
    "        \n",
    "    def preprocess(self, observation): \n",
    "        gray = cv2.cvtColor(observation, cv2.COLOR_BGR2GRAY)\n",
    "        resize = cv2.resize(gray, (84,84),interpolation=cv2.INTER_CUBIC)\n",
    "        channels = np.reshape(resize, (84,84,1))\n",
    "        return channels \n",
    "    \n",
    "    def step(self, action): \n",
    "        obs,reward,done,info = self.game.step(action)\n",
    "        obs = self.preprocess(obs) \n",
    "        self.previous_frame = obs \n",
    "        reward = info['score'] - self.score \n",
    "        self.score = info['score'] \n",
    "        return obs, reward, done, info\n",
    "        \n",
    "    def reset(self):\n",
    "        self.score = 0 \n",
    "        obs = self.game.reset()\n",
    "        obs = self.preprocess(obs) \n",
    "        self.previous_frame = obs \n",
    "        return obs\n",
    "\n",
    "    def render(self, *args, **kwargs):\n",
    "        self.game.render()\n",
    "\n",
    "    def close(self):\n",
    "        self.game.close()\n"
   ]
  },
  {
   "cell_type": "code",
   "execution_count": 15,
   "id": "81bce0dc",
   "metadata": {
    "collapsed": true,
    "scrolled": true
   },
   "outputs": [],
   "source": [
    "env.close()\n",
    "env=StreetFighter()"
   ]
  },
  {
   "cell_type": "code",
   "execution_count": 16,
   "id": "96a9febf",
   "metadata": {
    "scrolled": true
   },
   "outputs": [
    {
     "data": {
      "text/plain": [
       "(84, 84, 1)"
      ]
     },
     "execution_count": 16,
     "metadata": {},
     "output_type": "execute_result"
    }
   ],
   "source": [
    "env.observation_space.shape"
   ]
  },
  {
   "cell_type": "code",
   "execution_count": 17,
   "id": "6b0072e6",
   "metadata": {
    "scrolled": true
   },
   "outputs": [
    {
     "data": {
      "text/plain": [
       "array([[[254],\n",
       "        [ 11],\n",
       "        [  8],\n",
       "        ...,\n",
       "        [ 51],\n",
       "        [218],\n",
       "        [123]],\n",
       "\n",
       "       [[ 54],\n",
       "        [110],\n",
       "        [230],\n",
       "        ...,\n",
       "        [157],\n",
       "        [173],\n",
       "        [ 75]],\n",
       "\n",
       "       [[228],\n",
       "        [ 78],\n",
       "        [223],\n",
       "        ...,\n",
       "        [ 27],\n",
       "        [108],\n",
       "        [ 11]],\n",
       "\n",
       "       ...,\n",
       "\n",
       "       [[ 56],\n",
       "        [ 46],\n",
       "        [200],\n",
       "        ...,\n",
       "        [178],\n",
       "        [108],\n",
       "        [105]],\n",
       "\n",
       "       [[234],\n",
       "        [ 36],\n",
       "        [179],\n",
       "        ...,\n",
       "        [191],\n",
       "        [107],\n",
       "        [221]],\n",
       "\n",
       "       [[176],\n",
       "        [229],\n",
       "        [ 96],\n",
       "        ...,\n",
       "        [222],\n",
       "        [218],\n",
       "        [134]]], dtype=uint8)"
      ]
     },
     "execution_count": 17,
     "metadata": {},
     "output_type": "execute_result"
    }
   ],
   "source": [
    "env.observation_space.sample()"
   ]
  },
  {
   "cell_type": "code",
   "execution_count": 18,
   "id": "878e8aa7",
   "metadata": {
    "scrolled": true
   },
   "outputs": [
    {
     "name": "stdout",
     "output_type": "stream",
     "text": [
      "[0 0 1 1 0 1 0 0 1 0 1 1]\n"
     ]
    },
    {
     "data": {
      "text/plain": [
       "(12,)"
      ]
     },
     "execution_count": 18,
     "metadata": {},
     "output_type": "execute_result"
    }
   ],
   "source": [
    "print(env.action_space.sample())\n",
    "env.action_space.shape"
   ]
  },
  {
   "cell_type": "code",
   "execution_count": 19,
   "id": "b87445c7",
   "metadata": {
    "collapsed": true,
    "scrolled": true
   },
   "outputs": [],
   "source": [
    "obs = env.reset()\n",
    "# Set flag to false\n",
    "done = False\n",
    "for game in range(1): \n",
    "    while not done: \n",
    "        if done: \n",
    "            obs = env.reset()\n",
    "        env.render()\n",
    "        obs, reward, done, info = env.step(env.action_space.sample())\n",
    "        \n",
    "env.close()"
   ]
  },
  {
   "cell_type": "code",
   "execution_count": 25,
   "id": "fa2a17e9",
   "metadata": {
    "collapsed": true,
    "scrolled": true
   },
   "outputs": [],
   "source": [
    "env=StreetFighter()\n",
    "obs=env.reset()"
   ]
  },
  {
   "cell_type": "code",
   "execution_count": 40,
   "id": "28a25b67",
   "metadata": {
    "scrolled": true
   },
   "outputs": [
    {
     "data": {
      "text/plain": [
       "<matplotlib.image.AxesImage at 0x150578a3a90>"
      ]
     },
     "execution_count": 40,
     "metadata": {},
     "output_type": "execute_result"
    },
    {
     "data": {
      "image/png": "[encoded data removed]",
      "text/plain": [
       "<Figure size 432x288 with 1 Axes>"
      ]
     },
     "metadata": {
      "needs_background": "light"
     },
     "output_type": "display_data"
    }
   ],
   "source": [
    "obs, reward, done, info = env.step(env.action_space.sample())\n",
    "plt.imshow(cv2.cvtColor(obs,cv2.COLOR_BGR2RGB))"
   ]
  },
  {
   "cell_type": "markdown",
   "id": "32232d47",
   "metadata": {},
   "source": [
    "### Hyperparameter Tuning"
   ]
  },
  {
   "cell_type": "code",
   "execution_count": 41,
   "id": "e5cfd942",
   "metadata": {
    "collapsed": true,
    "scrolled": true
   },
   "outputs": [
    {
     "name": "stdout",
     "output_type": "stream",
     "text": [
      "Collecting stable-baselines3[extra]\n",
      "  Using cached stable_baselines3-1.3.0-py3-none-any.whl (174 kB)\n",
      "Collecting optuna\n",
      "  Using cached optuna-3.0.6-py3-none-any.whl (348 kB)\n",
      "Requirement already satisfied: numpy in d:\\anaconda\\envs\\streetfighter\\lib\\site-packages (from stable-baselines3[extra]) (1.19.2)\n",
      "Requirement already satisfied: torch>=1.8.1 in d:\\anaconda\\envs\\streetfighter\\lib\\site-packages (from stable-baselines3[extra]) (1.10.2+cu113)\n",
      "Collecting pandas\n",
      "  Using cached pandas-1.1.5-cp36-cp36m-win_amd64.whl (8.7 MB)\n",
      "Requirement already satisfied: gym<0.20,>=0.17 in d:\\anaconda\\envs\\streetfighter\\lib\\site-packages (from stable-baselines3[extra]) (0.19.0)\n",
      "Requirement already satisfied: matplotlib in d:\\anaconda\\envs\\streetfighter\\lib\\site-packages (from stable-baselines3[extra]) (3.3.4)\n",
      "Requirement already satisfied: cloudpickle in d:\\anaconda\\envs\\streetfighter\\lib\\site-packages (from stable-baselines3[extra]) (1.6.0)\n",
      "Collecting psutil\n",
      "  Downloading psutil-5.9.5-cp36-abi3-win_amd64.whl (255 kB)\n",
      "Collecting atari-py~=0.2.0\n",
      "  Using cached atari_py-0.2.9-cp36-cp36m-win_amd64.whl (1.6 MB)\n",
      "Requirement already satisfied: pillow in d:\\anaconda\\envs\\streetfighter\\lib\\site-packages (from stable-baselines3[extra]) (8.4.0)\n",
      "Requirement already satisfied: opencv-python in d:\\anaconda\\envs\\streetfighter\\lib\\site-packages (from stable-baselines3[extra]) (4.5.5.62)\n",
      "Collecting tensorboard>=2.2.0\n",
      "  Using cached tensorboard-2.10.1-py3-none-any.whl (5.9 MB)\n",
      "Collecting cmaes>=0.8.2\n",
      "  Using cached cmaes-0.9.0-py3-none-any.whl (23 kB)\n",
      "Collecting PyYAML\n",
      "  Downloading PyYAML-6.0.1-cp36-cp36m-win_amd64.whl (153 kB)\n",
      "Requirement already satisfied: importlib-metadata<5.0.0 in d:\\anaconda\\envs\\streetfighter\\lib\\site-packages (from optuna) (4.8.3)\n",
      "Collecting packaging>=20.0\n",
      "  Using cached packaging-21.3-py3-none-any.whl (40 kB)\n",
      "Collecting tqdm\n",
      "  Using cached tqdm-4.64.1-py2.py3-none-any.whl (78 kB)\n",
      "Collecting cliff\n",
      "  Using cached cliff-3.10.1-py3-none-any.whl (81 kB)\n",
      "Collecting sqlalchemy>=1.3.0\n",
      "  Downloading SQLAlchemy-1.4.49-cp36-cp36m-win_amd64.whl (1.6 MB)\n",
      "Requirement already satisfied: scipy!=1.4.0,<1.9.0 in d:\\anaconda\\envs\\streetfighter\\lib\\site-packages (from optuna) (1.5.2)\n",
      "Collecting colorlog\n",
      "  Using cached colorlog-6.7.0-py2.py3-none-any.whl (11 kB)\n",
      "Collecting alembic>=1.5.0\n",
      "  Using cached alembic-1.7.7-py3-none-any.whl (210 kB)\n",
      "Collecting importlib-resources\n",
      "  Using cached importlib_resources-5.4.0-py3-none-any.whl (28 kB)\n",
      "Collecting Mako\n",
      "  Using cached Mako-1.1.6-py2.py3-none-any.whl (75 kB)\n",
      "Requirement already satisfied: six in d:\\anaconda\\envs\\streetfighter\\lib\\site-packages (from atari-py~=0.2.0->stable-baselines3[extra]) (1.16.0)\n",
      "Requirement already satisfied: zipp>=0.5 in d:\\anaconda\\envs\\streetfighter\\lib\\site-packages (from importlib-metadata<5.0.0->optuna) (3.6.0)\n",
      "Requirement already satisfied: typing-extensions>=3.6.4 in d:\\anaconda\\envs\\streetfighter\\lib\\site-packages (from importlib-metadata<5.0.0->optuna) (4.1.1)\n",
      "Requirement already satisfied: pyparsing!=3.0.5,>=2.0.2 in d:\\anaconda\\envs\\streetfighter\\lib\\site-packages (from packaging>=20.0->optuna) (3.1.1)\n",
      "Collecting greenlet!=0.4.17\n",
      "  Using cached greenlet-2.0.2-cp36-cp36m-win_amd64.whl (197 kB)\n",
      "Requirement already satisfied: protobuf<3.20,>=3.9.2 in d:\\anaconda\\envs\\streetfighter\\lib\\site-packages (from tensorboard>=2.2.0->stable-baselines3[extra]) (3.17.2)\n",
      "Collecting tensorboard-plugin-wit>=1.6.0\n",
      "  Using cached tensorboard_plugin_wit-1.8.1-py3-none-any.whl (781 kB)\n",
      "Requirement already satisfied: absl-py>=0.4 in d:\\anaconda\\envs\\streetfighter\\lib\\site-packages (from tensorboard>=2.2.0->stable-baselines3[extra]) (0.15.0)\n",
      "Collecting markdown>=2.6.8\n",
      "  Using cached Markdown-3.3.7-py3-none-any.whl (97 kB)\n",
      "Collecting tensorboard-data-server<0.7.0,>=0.6.0\n",
      "  Using cached tensorboard_data_server-0.6.1-py3-none-any.whl (2.4 kB)\n",
      "Requirement already satisfied: requests<3,>=2.21.0 in d:\\anaconda\\envs\\streetfighter\\lib\\site-packages (from tensorboard>=2.2.0->stable-baselines3[extra]) (2.27.1)\n",
      "Requirement already satisfied: setuptools>=41.0.0 in d:\\anaconda\\envs\\streetfighter\\lib\\site-packages (from tensorboard>=2.2.0->stable-baselines3[extra]) (58.0.4)\n",
      "Collecting werkzeug>=1.0.1\n",
      "  Using cached Werkzeug-2.0.3-py3-none-any.whl (289 kB)\n",
      "Requirement already satisfied: wheel>=0.26 in d:\\anaconda\\envs\\streetfighter\\lib\\site-packages (from tensorboard>=2.2.0->stable-baselines3[extra]) (0.37.1)\n",
      "Requirement already satisfied: google-auth-oauthlib<0.5,>=0.4.1 in d:\\anaconda\\envs\\streetfighter\\lib\\site-packages (from tensorboard>=2.2.0->stable-baselines3[extra]) (0.4.4)\n",
      "Requirement already satisfied: google-auth<3,>=1.6.3 in d:\\anaconda\\envs\\streetfighter\\lib\\site-packages (from tensorboard>=2.2.0->stable-baselines3[extra]) (2.6.0)\n",
      "Requirement already satisfied: grpcio>=1.24.3 in d:\\anaconda\\envs\\streetfighter\\lib\\site-packages (from tensorboard>=2.2.0->stable-baselines3[extra]) (1.36.1)\n",
      "Requirement already satisfied: cachetools<6.0,>=2.0.0 in d:\\anaconda\\envs\\streetfighter\\lib\\site-packages (from google-auth<3,>=1.6.3->tensorboard>=2.2.0->stable-baselines3[extra]) (4.2.2)\n",
      "Requirement already satisfied: rsa<5,>=3.1.4 in d:\\anaconda\\envs\\streetfighter\\lib\\site-packages (from google-auth<3,>=1.6.3->tensorboard>=2.2.0->stable-baselines3[extra]) (4.7.2)\n",
      "Requirement already satisfied: pyasn1-modules>=0.2.1 in d:\\anaconda\\envs\\streetfighter\\lib\\site-packages (from google-auth<3,>=1.6.3->tensorboard>=2.2.0->stable-baselines3[extra]) (0.2.8)\n",
      "Requirement already satisfied: requests-oauthlib>=0.7.0 in d:\\anaconda\\envs\\streetfighter\\lib\\site-packages (from google-auth-oauthlib<0.5,>=0.4.1->tensorboard>=2.2.0->stable-baselines3[extra]) (1.3.0)\n",
      "Requirement already satisfied: pyasn1<0.5.0,>=0.4.6 in d:\\anaconda\\envs\\streetfighter\\lib\\site-packages (from pyasn1-modules>=0.2.1->google-auth<3,>=1.6.3->tensorboard>=2.2.0->stable-baselines3[extra]) (0.4.8)\n",
      "Requirement already satisfied: urllib3<1.27,>=1.21.1 in d:\\anaconda\\envs\\streetfighter\\lib\\site-packages (from requests<3,>=2.21.0->tensorboard>=2.2.0->stable-baselines3[extra]) (1.26.8)\n",
      "Requirement already satisfied: charset-normalizer~=2.0.0 in d:\\anaconda\\envs\\streetfighter\\lib\\site-packages (from requests<3,>=2.21.0->tensorboard>=2.2.0->stable-baselines3[extra]) (2.0.4)\n",
      "Requirement already satisfied: idna<4,>=2.5 in d:\\anaconda\\envs\\streetfighter\\lib\\site-packages (from requests<3,>=2.21.0->tensorboard>=2.2.0->stable-baselines3[extra]) (3.3)\n",
      "Requirement already satisfied: certifi>=2017.4.17 in d:\\anaconda\\envs\\streetfighter\\lib\\site-packages (from requests<3,>=2.21.0->tensorboard>=2.2.0->stable-baselines3[extra]) (2021.5.30)\n",
      "Requirement already satisfied: oauthlib>=3.0.0 in d:\\anaconda\\envs\\streetfighter\\lib\\site-packages (from requests-oauthlib>=0.7.0->google-auth-oauthlib<0.5,>=0.4.1->tensorboard>=2.2.0->stable-baselines3[extra]) (3.2.0)\n",
      "Requirement already satisfied: dataclasses in d:\\anaconda\\envs\\streetfighter\\lib\\site-packages (from torch>=1.8.1->stable-baselines3[extra]) (0.8)\n",
      "Collecting autopage>=0.4.0\n",
      "  Using cached autopage-0.5.1-py3-none-any.whl (29 kB)\n",
      "Collecting pbr!=2.1.0,>=2.0.0\n",
      "  Using cached pbr-5.11.1-py2.py3-none-any.whl (112 kB)\n",
      "Collecting cmd2>=1.0.0\n",
      "  Using cached cmd2-2.4.3-py3-none-any.whl (147 kB)\n",
      "Collecting stevedore>=2.0.1\n",
      "  Using cached stevedore-3.5.2-py3-none-any.whl (50 kB)\n",
      "Collecting PrettyTable>=0.7.2\n",
      "  Using cached prettytable-2.5.0-py3-none-any.whl (24 kB)\n",
      "Collecting pyreadline3\n",
      "  Using cached pyreadline3-3.4.1-py3-none-any.whl (95 kB)\n",
      "Requirement already satisfied: wcwidth>=0.1.7 in d:\\anaconda\\envs\\streetfighter\\lib\\site-packages (from cmd2>=1.0.0->cliff->optuna) (0.2.5)\n",
      "Collecting pyperclip>=1.6\n",
      "  Using cached pyperclip-1.8.2-py3-none-any.whl\n",
      "Requirement already satisfied: attrs>=16.3.0 in d:\\anaconda\\envs\\streetfighter\\lib\\site-packages (from cmd2>=1.0.0->cliff->optuna) (21.4.0)\n",
      "Requirement already satisfied: colorama in d:\\anaconda\\envs\\streetfighter\\lib\\site-packages (from colorlog->optuna) (0.4.4)\n",
      "Collecting MarkupSafe>=0.9.2\n",
      "  Using cached MarkupSafe-2.0.1-cp36-cp36m-win_amd64.whl (14 kB)\n",
      "Requirement already satisfied: kiwisolver>=1.0.1 in d:\\anaconda\\envs\\streetfighter\\lib\\site-packages (from matplotlib->stable-baselines3[extra]) (1.3.1)\n",
      "Requirement already satisfied: cycler>=0.10 in d:\\anaconda\\envs\\streetfighter\\lib\\site-packages (from matplotlib->stable-baselines3[extra]) (0.11.0)\n",
      "Requirement already satisfied: python-dateutil>=2.1 in d:\\anaconda\\envs\\streetfighter\\lib\\site-packages (from matplotlib->stable-baselines3[extra]) (2.8.2)\n",
      "Collecting pytz>=2017.2\n",
      "  Downloading pytz-2023.3-py2.py3-none-any.whl (502 kB)\n",
      "Installing collected packages: pytz, pyreadline3, pyperclip, pbr, MarkupSafe, greenlet, werkzeug, tensorboard-plugin-wit, tensorboard-data-server, stevedore, sqlalchemy, PyYAML, PrettyTable, pandas, markdown, Mako, importlib-resources, cmd2, autopage, tqdm, tensorboard, stable-baselines3, psutil, packaging, colorlog, cmaes, cliff, atari-py, alembic, optuna\n",
      "Successfully installed Mako-1.1.6 MarkupSafe-2.0.1 PrettyTable-2.5.0 PyYAML-6.0.1 alembic-1.7.7 atari-py-0.2.9 autopage-0.5.1 cliff-3.10.1 cmaes-0.9.0 cmd2-2.4.3 colorlog-6.7.0 greenlet-2.0.2 importlib-resources-5.4.0 markdown-3.3.7 optuna-3.0.6 packaging-21.3 pandas-1.1.5 pbr-5.11.1 psutil-5.9.5 pyperclip-1.8.2 pyreadline3-3.4.1 pytz-2023.3 sqlalchemy-1.4.49 stable-baselines3-1.3.0 stevedore-3.5.2 tensorboard-2.10.1 tensorboard-data-server-0.6.1 tensorboard-plugin-wit-1.8.1 tqdm-4.64.1 werkzeug-2.0.3\n"
     ]
    }
   ],
   "source": [
    "!pip install stable-baselines3[extra] optuna"
   ]
  },
  {
   "cell_type": "code",
   "execution_count": 93,
   "id": "c1ed1d6f",
   "metadata": {
    "collapsed": true,
    "scrolled": true
   },
   "outputs": [],
   "source": [
    "import optuna\n",
    "from stable_baselines3 import PPO\n",
    "from stable_baselines3.common.evaluation import evaluate_policy\n",
    "from stable_baselines3.common.monitor import Monitor\n",
    "from stable_baselines3.common.vec_env import DummyVecEnv, VecFrameStack\n",
    "import os"
   ]
  },
  {
   "cell_type": "code",
   "execution_count": 94,
   "id": "5ea9b05a",
   "metadata": {
    "collapsed": true,
    "scrolled": true
   },
   "outputs": [],
   "source": [
    "LOG_DIR = './logs/'\n",
    "OPT_DIR = './opt/'\n",
    "os.makedirs(LOG_DIR, exist_ok=True)\n",
    "os.makedirs(OPT_DIR, exist_ok=True)"
   ]
  },
  {
   "cell_type": "code",
   "execution_count": 95,
   "id": "b2da435b",
   "metadata": {
    "collapsed": true,
    "scrolled": true
   },
   "outputs": [],
   "source": [
    "def objective(trial):\n",
    "    return {\n",
    "        'n_steps': trial.suggest_int('n_steps', 2048, 8192),\n",
    "        'gamma': trial.suggest_loguniform('gamma', 0.8, 0.9999),\n",
    "        'learning_rate': trial.suggest_loguniform('learning_rate', 1e-5, 1e-4),\n",
    "        'clip_range': trial.suggest_uniform('clip_range', 0.1, 0.4),\n",
    "        'gae_lambda': trial.suggest_uniform('gae_lambda', 0.8, .99)\n",
    "    }"
   ]
  },
  {
   "cell_type": "code",
   "execution_count": 96,
   "id": "d5ab39ff",
   "metadata": {
    "collapsed": true,
    "scrolled": true
   },
   "outputs": [],
   "source": [
    "def optimize_agent(trial):\n",
    "    try:\n",
    "        model_params = objective(trial)\n",
    "        env = StreetFighter()\n",
    "        env = Monitor(env, LOG_DIR)\n",
    "        env = DummyVecEnv([lambda: env])\n",
    "        env = VecFrameStack(env, 4, channels_order='last')\n",
    "        model = PPO('CnnPolicy', env, tensorboard_log=LOG_DIR, verbose=0, **model_params)\n",
    "        model.learn(total_timesteps=30000)\n",
    "        mean_reward, _ = evaluate_policy(model, env, n_eval_episodes=5)\n",
    "        env.close()\n",
    "\n",
    "        SAVE_PATH = os.path.join(OPT_DIR, 'trial_{}_best_model'.format(trial.number))\n",
    "        model.save(SAVE_PATH)\n",
    "        \n",
    "        return mean_reward\n",
    "    except Exception as e: \n",
    "        return -1000"
   ]
  },
  {
   "cell_type": "code",
   "execution_count": 97,
   "id": "ae9f5deb",
   "metadata": {
    "collapsed": true,
    "scrolled": true
   },
   "outputs": [
    {
     "ename": "NameError",
     "evalue": "name 'env' is not defined",
     "output_type": "error",
     "traceback": [
      "\u001b[1;31m---------------------------------------------------------------------------\u001b[0m",
      "\u001b[1;31mNameError\u001b[0m                                 Traceback (most recent call last)",
      "\u001b[1;32m<ipython-input-97-525f38cd4d56>\u001b[0m in \u001b[0;36m<module>\u001b[1;34m\u001b[0m\n\u001b[1;32m----> 1\u001b[1;33m \u001b[0menv\u001b[0m\u001b[1;33m.\u001b[0m\u001b[0mclose\u001b[0m\u001b[1;33m(\u001b[0m\u001b[1;33m)\u001b[0m\u001b[1;33m\u001b[0m\u001b[1;33m\u001b[0m\u001b[0m\n\u001b[0m\u001b[0;32m      2\u001b[0m \u001b[1;32mdel\u001b[0m \u001b[0menv\u001b[0m\u001b[1;33m\u001b[0m\u001b[1;33m\u001b[0m\u001b[0m\n",
      "\u001b[1;31mNameError\u001b[0m: name 'env' is not defined"
     ]
    }
   ],
   "source": [
    "env.close()\n",
    "del env"
   ]
  },
  {
   "cell_type": "code",
   "execution_count": 98,
   "id": "aafefe91",
   "metadata": {
    "scrolled": true
   },
   "outputs": [
    {
     "name": "stderr",
     "output_type": "stream",
     "text": [
      "\u001b[32m[I 2023-08-06 16:33:47,395]\u001b[0m A new study created in memory with name: no-name-5303ccd8-9d95-4725-8c21-d8ad4b0fa602\u001b[0m\n",
      "D:\\Anaconda\\envs\\StreetFighter\\lib\\site-packages\\ipykernel_launcher.py:4: FutureWarning: suggest_loguniform has been deprecated in v3.0.0. This feature will be removed in v6.0.0. See https://github.com/optuna/optuna/releases/tag/v3.0.0. Use :func:`~optuna.trial.Trial.suggest_float` instead.\n",
      "  after removing the cwd from sys.path.\n",
      "D:\\Anaconda\\envs\\StreetFighter\\lib\\site-packages\\ipykernel_launcher.py:5: FutureWarning: suggest_loguniform has been deprecated in v3.0.0. This feature will be removed in v6.0.0. See https://github.com/optuna/optuna/releases/tag/v3.0.0. Use :func:`~optuna.trial.Trial.suggest_float` instead.\n",
      "  \"\"\"\n",
      "D:\\Anaconda\\envs\\StreetFighter\\lib\\site-packages\\ipykernel_launcher.py:6: FutureWarning: suggest_uniform has been deprecated in v3.0.0. This feature will be removed in v6.0.0. See https://github.com/optuna/optuna/releases/tag/v3.0.0. Use :func:`~optuna.trial.Trial.suggest_float` instead.\n",
      "  \n",
      "D:\\Anaconda\\envs\\StreetFighter\\lib\\site-packages\\ipykernel_launcher.py:7: FutureWarning: suggest_uniform has been deprecated in v3.0.0. This feature will be removed in v6.0.0. See https://github.com/optuna/optuna/releases/tag/v3.0.0. Use :func:`~optuna.trial.Trial.suggest_float` instead.\n",
      "  import sys\n",
      "D:\\Anaconda\\envs\\StreetFighter\\lib\\site-packages\\stable_baselines3\\ppo\\ppo.py:138: UserWarning: You have specified a mini-batch size of 64, but because the `RolloutBuffer` is of size `n_steps * n_envs = 2894`, after every 45 untruncated mini-batches, there will be a truncated mini-batch of size 14\n",
      "We recommend using a `batch_size` that is a factor of `n_steps * n_envs`.\n",
      "Info: (n_steps=2894 and n_envs=1)\n",
      "  f\"You have specified a mini-batch size of {batch_size},\"\n",
      "\u001b[32m[I 2023-08-06 16:51:27,491]\u001b[0m Trial 0 finished with value: 2000.0 and parameters: {'n_steps': 2894, 'gamma': 0.9687159987695488, 'learning_rate': 9.805041392441808e-05, 'clip_range': 0.1741531430893773, 'gae_lambda': 0.9144511891922987}. Best is trial 0 with value: 2000.0.\u001b[0m\n",
      "D:\\Anaconda\\envs\\StreetFighter\\lib\\site-packages\\stable_baselines3\\ppo\\ppo.py:138: UserWarning: You have specified a mini-batch size of 64, but because the `RolloutBuffer` is of size `n_steps * n_envs = 5298`, after every 82 untruncated mini-batches, there will be a truncated mini-batch of size 50\n",
      "We recommend using a `batch_size` that is a factor of `n_steps * n_envs`.\n",
      "Info: (n_steps=5298 and n_envs=1)\n",
      "  f\"You have specified a mini-batch size of {batch_size},\"\n",
      "\u001b[32m[I 2023-08-06 17:09:41,957]\u001b[0m Trial 1 finished with value: 0.0 and parameters: {'n_steps': 5298, 'gamma': 0.8026546979187101, 'learning_rate': 2.3486172363865028e-05, 'clip_range': 0.23749671640654524, 'gae_lambda': 0.9640207842405044}. Best is trial 0 with value: 2000.0.\u001b[0m\n",
      "D:\\Anaconda\\envs\\StreetFighter\\lib\\site-packages\\stable_baselines3\\ppo\\ppo.py:138: UserWarning: You have specified a mini-batch size of 64, but because the `RolloutBuffer` is of size `n_steps * n_envs = 2258`, after every 35 untruncated mini-batches, there will be a truncated mini-batch of size 18\n",
      "We recommend using a `batch_size` that is a factor of `n_steps * n_envs`.\n",
      "Info: (n_steps=2258 and n_envs=1)\n",
      "  f\"You have specified a mini-batch size of {batch_size},\"\n",
      "\u001b[32m[I 2023-08-06 17:27:57,145]\u001b[0m Trial 2 finished with value: 2000.0 and parameters: {'n_steps': 2258, 'gamma': 0.8859282725121315, 'learning_rate': 8.43969767755019e-05, 'clip_range': 0.12877698546907673, 'gae_lambda': 0.9796329923289551}. Best is trial 0 with value: 2000.0.\u001b[0m\n",
      "D:\\Anaconda\\envs\\StreetFighter\\lib\\site-packages\\stable_baselines3\\ppo\\ppo.py:138: UserWarning: You have specified a mini-batch size of 64, but because the `RolloutBuffer` is of size `n_steps * n_envs = 6583`, after every 102 untruncated mini-batches, there will be a truncated mini-batch of size 55\n",
      "We recommend using a `batch_size` that is a factor of `n_steps * n_envs`.\n",
      "Info: (n_steps=6583 and n_envs=1)\n",
      "  f\"You have specified a mini-batch size of {batch_size},\"\n",
      "\u001b[32m[I 2023-08-06 17:37:45,877]\u001b[0m Trial 3 finished with value: 1000.0 and parameters: {'n_steps': 6583, 'gamma': 0.8257410336855014, 'learning_rate': 1.2679290266567133e-05, 'clip_range': 0.2968984512145098, 'gae_lambda': 0.9054268284831322}. Best is trial 0 with value: 2000.0.\u001b[0m\n",
      "D:\\Anaconda\\envs\\StreetFighter\\lib\\site-packages\\stable_baselines3\\ppo\\ppo.py:138: UserWarning: You have specified a mini-batch size of 64, but because the `RolloutBuffer` is of size `n_steps * n_envs = 7621`, after every 119 untruncated mini-batches, there will be a truncated mini-batch of size 5\n",
      "We recommend using a `batch_size` that is a factor of `n_steps * n_envs`.\n",
      "Info: (n_steps=7621 and n_envs=1)\n",
      "  f\"You have specified a mini-batch size of {batch_size},\"\n",
      "\u001b[32m[I 2023-08-06 17:45:13,482]\u001b[0m Trial 4 finished with value: 100.0 and parameters: {'n_steps': 7621, 'gamma': 0.9979190265670913, 'learning_rate': 2.1160774805288068e-05, 'clip_range': 0.1270165092870122, 'gae_lambda': 0.856123801973164}. Best is trial 0 with value: 2000.0.\u001b[0m\n",
      "D:\\Anaconda\\envs\\StreetFighter\\lib\\site-packages\\stable_baselines3\\ppo\\ppo.py:138: UserWarning: You have specified a mini-batch size of 64, but because the `RolloutBuffer` is of size `n_steps * n_envs = 6610`, after every 103 untruncated mini-batches, there will be a truncated mini-batch of size 18\n",
      "We recommend using a `batch_size` that is a factor of `n_steps * n_envs`.\n",
      "Info: (n_steps=6610 and n_envs=1)\n",
      "  f\"You have specified a mini-batch size of {batch_size},\"\n",
      "\u001b[32m[I 2023-08-06 17:51:03,080]\u001b[0m Trial 5 finished with value: 0.0 and parameters: {'n_steps': 6610, 'gamma': 0.9644679173241298, 'learning_rate': 1.516956378724894e-05, 'clip_range': 0.27586203446925583, 'gae_lambda': 0.8308977410018477}. Best is trial 0 with value: 2000.0.\u001b[0m\n",
      "D:\\Anaconda\\envs\\StreetFighter\\lib\\site-packages\\stable_baselines3\\ppo\\ppo.py:138: UserWarning: You have specified a mini-batch size of 64, but because the `RolloutBuffer` is of size `n_steps * n_envs = 6391`, after every 99 untruncated mini-batches, there will be a truncated mini-batch of size 55\n",
      "We recommend using a `batch_size` that is a factor of `n_steps * n_envs`.\n",
      "Info: (n_steps=6391 and n_envs=1)\n",
      "  f\"You have specified a mini-batch size of {batch_size},\"\n",
      "\u001b[32m[I 2023-08-06 17:57:55,924]\u001b[0m Trial 6 finished with value: 1200.0 and parameters: {'n_steps': 6391, 'gamma': 0.8588462912097007, 'learning_rate': 5.09360159741841e-05, 'clip_range': 0.3443523743549754, 'gae_lambda': 0.898384601012675}. Best is trial 0 with value: 2000.0.\u001b[0m\n",
      "D:\\Anaconda\\envs\\StreetFighter\\lib\\site-packages\\stable_baselines3\\ppo\\ppo.py:138: UserWarning: You have specified a mini-batch size of 64, but because the `RolloutBuffer` is of size `n_steps * n_envs = 5782`, after every 90 untruncated mini-batches, there will be a truncated mini-batch of size 22\n",
      "We recommend using a `batch_size` that is a factor of `n_steps * n_envs`.\n",
      "Info: (n_steps=5782 and n_envs=1)\n",
      "  f\"You have specified a mini-batch size of {batch_size},\"\n",
      "\u001b[32m[I 2023-08-06 18:05:21,374]\u001b[0m Trial 7 finished with value: 0.0 and parameters: {'n_steps': 5782, 'gamma': 0.9261230760459908, 'learning_rate': 7.934913071680525e-05, 'clip_range': 0.2083072963235135, 'gae_lambda': 0.8448435047911173}. Best is trial 0 with value: 2000.0.\u001b[0m\n",
      "D:\\Anaconda\\envs\\StreetFighter\\lib\\site-packages\\stable_baselines3\\ppo\\ppo.py:138: UserWarning: You have specified a mini-batch size of 64, but because the `RolloutBuffer` is of size `n_steps * n_envs = 2062`, after every 32 untruncated mini-batches, there will be a truncated mini-batch of size 14\n",
      "We recommend using a `batch_size` that is a factor of `n_steps * n_envs`.\n",
      "Info: (n_steps=2062 and n_envs=1)\n",
      "  f\"You have specified a mini-batch size of {batch_size},\"\n",
      "\u001b[32m[I 2023-08-06 18:12:04,154]\u001b[0m Trial 8 finished with value: 0.0 and parameters: {'n_steps': 2062, 'gamma': 0.9213054483862494, 'learning_rate': 8.588234554029958e-05, 'clip_range': 0.18095510412084917, 'gae_lambda': 0.8973633434489994}. Best is trial 0 with value: 2000.0.\u001b[0m\n",
      "D:\\Anaconda\\envs\\StreetFighter\\lib\\site-packages\\stable_baselines3\\ppo\\ppo.py:138: UserWarning: You have specified a mini-batch size of 64, but because the `RolloutBuffer` is of size `n_steps * n_envs = 4674`, after every 73 untruncated mini-batches, there will be a truncated mini-batch of size 2\n",
      "We recommend using a `batch_size` that is a factor of `n_steps * n_envs`.\n",
      "Info: (n_steps=4674 and n_envs=1)\n",
      "  f\"You have specified a mini-batch size of {batch_size},\"\n"
     ]
    },
    {
     "name": "stderr",
     "output_type": "stream",
     "text": [
      "\u001b[32m[I 2023-08-06 18:18:10,934]\u001b[0m Trial 9 finished with value: 2000.0 and parameters: {'n_steps': 4674, 'gamma': 0.804101505983249, 'learning_rate': 4.179220064297628e-05, 'clip_range': 0.15040014575344252, 'gae_lambda': 0.8263188389304869}. Best is trial 0 with value: 2000.0.\u001b[0m\n"
     ]
    }
   ],
   "source": [
    "study = optuna.create_study(direction='maximize')\n",
    "study.optimize(optimize_agent, n_trials=10, n_jobs=1)"
   ]
  },
  {
   "cell_type": "code",
   "execution_count": 99,
   "id": "371e3668",
   "metadata": {
    "scrolled": true
   },
   "outputs": [
    {
     "data": {
      "text/plain": [
       "{'n_steps': 2894,\n",
       " 'gamma': 0.9687159987695488,\n",
       " 'learning_rate': 9.805041392441808e-05,\n",
       " 'clip_range': 0.1741531430893773,\n",
       " 'gae_lambda': 0.9144511891922987}"
      ]
     },
     "execution_count": 99,
     "metadata": {},
     "output_type": "execute_result"
    }
   ],
   "source": [
    "study.best_params"
   ]
  },
  {
   "cell_type": "code",
   "execution_count": 100,
   "id": "e8df350a",
   "metadata": {
    "scrolled": true
   },
   "outputs": [
    {
     "data": {
      "text/plain": [
       "FrozenTrial(number=0, values=[2000.0], datetime_start=datetime.datetime(2023, 8, 6, 16, 33, 47, 470706), datetime_complete=datetime.datetime(2023, 8, 6, 16, 51, 27, 482709), params={'n_steps': 2894, 'gamma': 0.9687159987695488, 'learning_rate': 9.805041392441808e-05, 'clip_range': 0.1741531430893773, 'gae_lambda': 0.9144511891922987}, distributions={'n_steps': IntDistribution(high=8192, log=False, low=2048, step=1), 'gamma': FloatDistribution(high=0.9999, log=True, low=0.8, step=None), 'learning_rate': FloatDistribution(high=0.0001, log=True, low=1e-05, step=None), 'clip_range': FloatDistribution(high=0.4, log=False, low=0.1, step=None), 'gae_lambda': FloatDistribution(high=0.99, log=False, low=0.8, step=None)}, user_attrs={}, system_attrs={}, intermediate_values={}, trial_id=0, state=TrialState.COMPLETE, value=None)"
      ]
     },
     "execution_count": 100,
     "metadata": {},
     "output_type": "execute_result"
    }
   ],
   "source": [
    "study.best_trial"
   ]
  },
  {
   "cell_type": "markdown",
   "id": "8a472480",
   "metadata": {},
   "source": [
    "### Callback"
   ]
  },
  {
   "cell_type": "code",
   "execution_count": 110,
   "id": "1250d821",
   "metadata": {
    "collapsed": true,
    "scrolled": true
   },
   "outputs": [],
   "source": [
    "from stable_baselines3.common.callbacks import BaseCallback"
   ]
  },
  {
   "cell_type": "code",
   "execution_count": 111,
   "id": "bdcf4787",
   "metadata": {
    "collapsed": true,
    "scrolled": true
   },
   "outputs": [],
   "source": [
    "class TrainAndLoggingCallback(BaseCallback):\n",
    "\n",
    "    def __init__(self, check_freq, save_path, verbose=1):\n",
    "        super(TrainAndLoggingCallback, self).__init__(verbose)\n",
    "        self.check_freq = check_freq\n",
    "        self.save_path = save_path\n",
    "\n",
    "    def _init_callback(self):\n",
    "        if self.save_path is not None:\n",
    "            os.makedirs(self.save_path, exist_ok=True)\n",
    "\n",
    "    def _on_step(self):\n",
    "        if self.n_calls % self.check_freq == 0:\n",
    "            model_path = os.path.join(self.save_path, 'best_model_{}'.format(self.n_calls))\n",
    "            self.model.save(model_path)\n",
    "\n",
    "        return True"
   ]
  },
  {
   "cell_type": "code",
   "execution_count": 114,
   "id": "4645d6ac",
   "metadata": {
    "collapsed": true,
    "scrolled": true
   },
   "outputs": [],
   "source": [
    "# CHECKPOINT_DIR = './train/'\n",
    "os.makedirs('./train/', exist_ok=True)\n",
    "callback = TrainAndLoggingCallback(check_freq=10000, save_path='./train/')\n",
    "env.close()"
   ]
  },
  {
   "cell_type": "markdown",
   "id": "ac4a633c",
   "metadata": {},
   "source": [
    "### Train Model"
   ]
  },
  {
   "cell_type": "code",
   "execution_count": 154,
   "id": "c7b705fe",
   "metadata": {
    "collapsed": true,
    "scrolled": true
   },
   "outputs": [],
   "source": [
    "env = StreetFighter()\n",
    "env = Monitor(env, LOG_DIR)\n",
    "env = DummyVecEnv([lambda: env])\n",
    "env = VecFrameStack(env, 4, channels_order='last')"
   ]
  },
  {
   "cell_type": "code",
   "execution_count": 155,
   "id": "a2d83961",
   "metadata": {
    "collapsed": true,
    "scrolled": true
   },
   "outputs": [],
   "source": [
    "model_params = study.best_params"
   ]
  },
  {
   "cell_type": "code",
   "execution_count": 156,
   "id": "6de2d116",
   "metadata": {
    "collapsed": true,
    "scrolled": true
   },
   "outputs": [
    {
     "data": {
      "text/plain": [
       "{'n_steps': 2894,\n",
       " 'gamma': 0.9687159987695488,\n",
       " 'learning_rate': 9.805041392441808e-05,\n",
       " 'clip_range': 0.1741531430893773,\n",
       " 'gae_lambda': 0.9144511891922987}"
      ]
     },
     "execution_count": 156,
     "metadata": {},
     "output_type": "execute_result"
    }
   ],
   "source": [
    "model_params"
   ]
  },
  {
   "cell_type": "code",
   "execution_count": 157,
   "id": "6e2ce49a",
   "metadata": {
    "collapsed": true,
    "scrolled": true
   },
   "outputs": [],
   "source": [
    "model_params['n_steps'] = 45*64\n",
    "model_params['learning_rate']=5e-7"
   ]
  },
  {
   "cell_type": "code",
   "execution_count": 158,
   "id": "af22c5fd",
   "metadata": {
    "collapsed": true,
    "scrolled": true
   },
   "outputs": [],
   "source": [
    "env.reset()\n",
    "model = PPO('CnnPolicy', env, tensorboard_log=LOG_DIR, verbose=0, **model_params)\n",
    "# model=PPO.load(os.path.join(OPT_DIR,'trial_0_best_model.zip'))\n",
    "model.learn(total_timesteps=100000,callback=callback)\n",
    "env.close()"
   ]
  },
  {
   "cell_type": "markdown",
   "id": "5b91cc28",
   "metadata": {},
   "source": [
    "### Evaluate Model"
   ]
  },
  {
   "cell_type": "code",
   "execution_count": 161,
   "id": "1aabf3f8",
   "metadata": {
    "collapsed": true,
    "scrolled": true
   },
   "outputs": [],
   "source": [
    "env = StreetFighter()\n",
    "env = Monitor(env, LOG_DIR)\n",
    "env = DummyVecEnv([lambda: env])\n",
    "env = VecFrameStack(env, 4, channels_order='last')"
   ]
  },
  {
   "cell_type": "code",
   "execution_count": 162,
   "id": "48b56625",
   "metadata": {
    "collapsed": true,
    "scrolled": true
   },
   "outputs": [],
   "source": [
    "model = PPO.load('./train/best_model_50000')\n",
    "mean_reward, _ = evaluate_policy(model, env, n_eval_episodes=2, render=True)"
   ]
  },
  {
   "cell_type": "code",
   "execution_count": 165,
   "id": "df2c6ada",
   "metadata": {
    "scrolled": true
   },
   "outputs": [
    {
     "data": {
      "text/plain": [
       "1000.0"
      ]
     },
     "execution_count": 165,
     "metadata": {},
     "output_type": "execute_result"
    }
   ],
   "source": [
    "mean_reward"
   ]
  },
  {
   "cell_type": "code",
   "execution_count": 164,
   "id": "81d41816",
   "metadata": {
    "collapsed": true,
    "scrolled": true
   },
   "outputs": [],
   "source": [
    "env.close()"
   ]
  },
  {
   "cell_type": "code",
   "execution_count": null,
   "id": "a86b5d92",
   "metadata": {
    "collapsed": true,
    "scrolled": true
   },
   "outputs": [],
   "source": []
  }
 ],
 "metadata": {
  "kernelspec": {
   "display_name": "Python (StreetFighter)",
   "language": "python",
   "name": "streetfighter"
  },
  "language_info": {
   "codemirror_mode": {
    "name": "ipython",
    "version": 3
   },
   "file_extension": ".py",
   "mimetype": "text/x-python",
   "name": "python",
   "nbconvert_exporter": "python",
   "pygments_lexer": "ipython3",
   "version": "3.6.13"
  }
 },
 "nbformat": 4,
 "nbformat_minor": 5
}
